{
 "cells": [
  {
   "cell_type": "code",
   "execution_count": 4,
   "metadata": {},
   "outputs": [
    {
     "name": "stdout",
     "output_type": "stream",
     "text": [
      "Populating the interactive namespace from numpy and matplotlib\n"
     ]
    },
    {
     "name": "stderr",
     "output_type": "stream",
     "text": [
      "/home/iii/miniconda3/envs/ml/lib/python3.7/site-packages/IPython/core/magics/pylab.py:160: UserWarning: pylab import has clobbered these variables: ['time']\n",
      "`%matplotlib` prevents importing * from pylab and numpy\n",
      "  \"\\n`%matplotlib` prevents importing * from pylab and numpy\"\n"
     ]
    }
   ],
   "source": [
    "%pylab inline\n",
    "\n",
    "import numpy as np\n",
    "import yfinance as yf\n",
    "import matplotlib.pyplot as plt\n",
    "from tqdm.notebook import tqdm\n",
    "import statistics\n",
    "import pickle\n",
    "\n",
    "import sys\n",
    "sys.path.append(\"../\")\n",
    "from datetime import time\n",
    "import pandas as pd\n",
    "import pandas_market_calendars as mcal"
   ]
  },
  {
   "cell_type": "code",
   "execution_count": 5,
   "metadata": {
    "scrolled": false
   },
   "outputs": [],
   "source": [
    "# HIGH VOLUME AND HIGH OPEN OPTION INTEREST SECURITIES\n",
    "#https://www.barchart.com/options/most-active/stocks\n",
    "\n",
    "total = [\n",
    "    'AAL', 'AAPL', 'ACB', 'ADBE', 'AMC', 'AMD', 'AMGN', 'AMZN',\n",
    "    'ATVI', 'AXP', 'BA', 'BABA', 'BAC', 'BLNK', 'BYND', 'C',\n",
    "    'CAT', 'CCL', 'CHWY', 'COST', 'COTY', 'CRM', 'CSCO', 'CVS',\n",
    "    'CVX', 'BSX',\n",
    "    \n",
    "    \n",
    "    'DAL', 'DIS', 'DKNG', 'DOW', 'EEM', 'F', 'FB',\n",
    "    'FCEL', 'FTAI', 'GE', 'GM', 'GOLD', 'GRPN', 'GS', 'HD',\n",
    "    'HON', 'HYG', 'HYLN', 'IBM', 'INO', 'INTC', 'JD', 'JMIA',\n",
    "    'JNJ', 'JPM', 'JWN', 'KNDI', 'KO', 'KSS', 'LI', 'LOW',\n",
    "    'LYFT', 'M', 'MARA', 'MCD', 'MGM', 'MMM', 'MRK', 'GOOG',\n",
    "    'MRNA', 'MRO', 'MSFT', 'MU', 'NCLH', 'NFLX', 'NKE', 'NKLA',\n",
    "    'NVDA', 'OXY', 'PBR', 'PCG', 'PDD', 'PENN', 'PG', 'PINS',\n",
    "    'PLTR', 'PLUG', 'PTON', 'QCOM', 'QQQ', 'RIDE', 'RIOT', 'RKT',\n",
    "    'ROKU', 'SBUX', 'SDC', 'SLV', 'SNAP', 'SNOW', 'SOLO', 'SONO',\n",
    "    'SPCE', 'SPY', 'SQ', 'T', 'TEAM', 'TGT', 'TRV', 'TSLA', 'PFE',\n",
    "    'TWTR', 'UAL', 'UBER', 'UNH', 'V', 'VALE', 'VZ', 'WBA', 'ABT',\n",
    "    'WFC', 'WKHS', 'WMT', 'WYNN', 'X', 'XOM', 'XPEV', 'ZM', 'ABBV',\n",
    "    'LLY', 'LMT', 'INTU', 'AMT', 'MS'\n",
    "]"
   ]
  },
  {
   "cell_type": "code",
   "execution_count": 77,
   "metadata": {},
   "outputs": [],
   "source": [
    "tk = yf.Ticker('GE')"
   ]
  },
  {
   "cell_type": "code",
   "execution_count": 84,
   "metadata": {},
   "outputs": [],
   "source": [
    "goo = tk.option_chain('2023-01-20')[0]\n",
    "\n",
    "za = pd.DataFrame()\n",
    "\n",
    "n = tk.history().iloc[0]['Close']\n",
    "p = ''.join(str(n).split('.')[0]+'.'+str(n).split('.')[1][:2])\n",
    "\n",
    "za['price'] = p\n",
    "za['price_'] = p\n",
    "za['strike'] = goo['strike']\n",
    "za['bid'] = goo['bid']\n",
    "za['ask'] = goo['ask']\n",
    "za['spread'] = [(goo['bid'][x] / goo['ask'][x]) for x in range(len(goo))]"
   ]
  },
  {
   "cell_type": "code",
   "execution_count": 86,
   "metadata": {},
   "outputs": [
    {
     "data": {
      "text/html": [
       "<div>\n",
       "<style scoped>\n",
       "    .dataframe tbody tr th:only-of-type {\n",
       "        vertical-align: middle;\n",
       "    }\n",
       "\n",
       "    .dataframe tbody tr th {\n",
       "        vertical-align: top;\n",
       "    }\n",
       "\n",
       "    .dataframe thead th {\n",
       "        text-align: right;\n",
       "    }\n",
       "</style>\n",
       "<table border=\"1\" class=\"dataframe\">\n",
       "  <thead>\n",
       "    <tr style=\"text-align: right;\">\n",
       "      <th></th>\n",
       "      <th>price</th>\n",
       "      <th>strike</th>\n",
       "      <th>bid</th>\n",
       "      <th>ask</th>\n",
       "      <th>spread</th>\n",
       "      <th>price_</th>\n",
       "    </tr>\n",
       "  </thead>\n",
       "  <tbody>\n",
       "    <tr>\n",
       "      <th>0</th>\n",
       "      <td>11.37</td>\n",
       "      <td>2.0</td>\n",
       "      <td>9.00</td>\n",
       "      <td>9.95</td>\n",
       "      <td>0.904523</td>\n",
       "      <td>11.37</td>\n",
       "    </tr>\n",
       "    <tr>\n",
       "      <th>1</th>\n",
       "      <td>11.37</td>\n",
       "      <td>3.0</td>\n",
       "      <td>8.35</td>\n",
       "      <td>8.70</td>\n",
       "      <td>0.959770</td>\n",
       "      <td>11.37</td>\n",
       "    </tr>\n",
       "    <tr>\n",
       "      <th>2</th>\n",
       "      <td>11.37</td>\n",
       "      <td>4.0</td>\n",
       "      <td>7.50</td>\n",
       "      <td>7.80</td>\n",
       "      <td>0.961538</td>\n",
       "      <td>11.37</td>\n",
       "    </tr>\n",
       "    <tr>\n",
       "      <th>3</th>\n",
       "      <td>11.37</td>\n",
       "      <td>5.0</td>\n",
       "      <td>6.65</td>\n",
       "      <td>6.85</td>\n",
       "      <td>0.970803</td>\n",
       "      <td>11.37</td>\n",
       "    </tr>\n",
       "    <tr>\n",
       "      <th>4</th>\n",
       "      <td>11.37</td>\n",
       "      <td>7.0</td>\n",
       "      <td>5.15</td>\n",
       "      <td>5.40</td>\n",
       "      <td>0.953704</td>\n",
       "      <td>11.37</td>\n",
       "    </tr>\n",
       "    <tr>\n",
       "      <th>5</th>\n",
       "      <td>11.37</td>\n",
       "      <td>10.0</td>\n",
       "      <td>3.55</td>\n",
       "      <td>3.60</td>\n",
       "      <td>0.986111</td>\n",
       "      <td>11.37</td>\n",
       "    </tr>\n",
       "    <tr>\n",
       "      <th>6</th>\n",
       "      <td>11.37</td>\n",
       "      <td>12.0</td>\n",
       "      <td>2.66</td>\n",
       "      <td>2.76</td>\n",
       "      <td>0.963768</td>\n",
       "      <td>11.37</td>\n",
       "    </tr>\n",
       "    <tr>\n",
       "      <th>7</th>\n",
       "      <td>11.37</td>\n",
       "      <td>15.0</td>\n",
       "      <td>1.84</td>\n",
       "      <td>1.90</td>\n",
       "      <td>0.968421</td>\n",
       "      <td>11.37</td>\n",
       "    </tr>\n",
       "    <tr>\n",
       "      <th>8</th>\n",
       "      <td>11.37</td>\n",
       "      <td>17.0</td>\n",
       "      <td>1.42</td>\n",
       "      <td>1.52</td>\n",
       "      <td>0.934211</td>\n",
       "      <td>11.37</td>\n",
       "    </tr>\n",
       "    <tr>\n",
       "      <th>9</th>\n",
       "      <td>11.37</td>\n",
       "      <td>20.0</td>\n",
       "      <td>1.00</td>\n",
       "      <td>1.08</td>\n",
       "      <td>0.925926</td>\n",
       "      <td>11.37</td>\n",
       "    </tr>\n",
       "  </tbody>\n",
       "</table>\n",
       "</div>"
      ],
      "text/plain": [
       "   price  strike   bid   ask    spread price_\n",
       "0  11.37     2.0  9.00  9.95  0.904523  11.37\n",
       "1  11.37     3.0  8.35  8.70  0.959770  11.37\n",
       "2  11.37     4.0  7.50  7.80  0.961538  11.37\n",
       "3  11.37     5.0  6.65  6.85  0.970803  11.37\n",
       "4  11.37     7.0  5.15  5.40  0.953704  11.37\n",
       "5  11.37    10.0  3.55  3.60  0.986111  11.37\n",
       "6  11.37    12.0  2.66  2.76  0.963768  11.37\n",
       "7  11.37    15.0  1.84  1.90  0.968421  11.37\n",
       "8  11.37    17.0  1.42  1.52  0.934211  11.37\n",
       "9  11.37    20.0  1.00  1.08  0.925926  11.37"
      ]
     },
     "execution_count": 86,
     "metadata": {},
     "output_type": "execute_result"
    }
   ],
   "source": [
    "za"
   ]
  },
  {
   "cell_type": "code",
   "execution_count": null,
   "metadata": {},
   "outputs": [],
   "source": []
  },
  {
   "cell_type": "code",
   "execution_count": 58,
   "metadata": {
    "collapsed": true
   },
   "outputs": [
    {
     "data": {
      "text/html": [
       "<div>\n",
       "<style scoped>\n",
       "    .dataframe tbody tr th:only-of-type {\n",
       "        vertical-align: middle;\n",
       "    }\n",
       "\n",
       "    .dataframe tbody tr th {\n",
       "        vertical-align: top;\n",
       "    }\n",
       "\n",
       "    .dataframe thead th {\n",
       "        text-align: right;\n",
       "    }\n",
       "</style>\n",
       "<table border=\"1\" class=\"dataframe\">\n",
       "  <thead>\n",
       "    <tr style=\"text-align: right;\">\n",
       "      <th></th>\n",
       "      <th>price</th>\n",
       "      <th>bid</th>\n",
       "      <th>ask</th>\n",
       "      <th>strike</th>\n",
       "      <th>spread</th>\n",
       "    </tr>\n",
       "  </thead>\n",
       "  <tbody>\n",
       "    <tr>\n",
       "      <th>0</th>\n",
       "      <td>361.350006</td>\n",
       "      <td>159.1</td>\n",
       "      <td>166.3</td>\n",
       "      <td>175.0</td>\n",
       "      <td>0.956705</td>\n",
       "    </tr>\n",
       "    <tr>\n",
       "      <th>1</th>\n",
       "      <td>361.350006</td>\n",
       "      <td>154.1</td>\n",
       "      <td>161.6</td>\n",
       "      <td>180.0</td>\n",
       "      <td>0.953589</td>\n",
       "    </tr>\n",
       "    <tr>\n",
       "      <th>2</th>\n",
       "      <td>361.350006</td>\n",
       "      <td>148.9</td>\n",
       "      <td>156.9</td>\n",
       "      <td>185.0</td>\n",
       "      <td>0.949012</td>\n",
       "    </tr>\n",
       "    <tr>\n",
       "      <th>3</th>\n",
       "      <td>361.350006</td>\n",
       "      <td>160.5</td>\n",
       "      <td>165.7</td>\n",
       "      <td>190.0</td>\n",
       "      <td>0.968618</td>\n",
       "    </tr>\n",
       "    <tr>\n",
       "      <th>4</th>\n",
       "      <td>361.350006</td>\n",
       "      <td>133.4</td>\n",
       "      <td>142.5</td>\n",
       "      <td>200.0</td>\n",
       "      <td>0.936140</td>\n",
       "    </tr>\n",
       "    <tr>\n",
       "      <th>5</th>\n",
       "      <td>361.350006</td>\n",
       "      <td>150.7</td>\n",
       "      <td>157.3</td>\n",
       "      <td>210.0</td>\n",
       "      <td>0.958042</td>\n",
       "    </tr>\n",
       "    <tr>\n",
       "      <th>6</th>\n",
       "      <td>361.350006</td>\n",
       "      <td>146.1</td>\n",
       "      <td>151.9</td>\n",
       "      <td>220.0</td>\n",
       "      <td>0.961817</td>\n",
       "    </tr>\n",
       "    <tr>\n",
       "      <th>7</th>\n",
       "      <td>361.350006</td>\n",
       "      <td>124.0</td>\n",
       "      <td>131.3</td>\n",
       "      <td>230.0</td>\n",
       "      <td>0.944402</td>\n",
       "    </tr>\n",
       "    <tr>\n",
       "      <th>8</th>\n",
       "      <td>361.350006</td>\n",
       "      <td>93.1</td>\n",
       "      <td>97.8</td>\n",
       "      <td>250.0</td>\n",
       "      <td>0.951943</td>\n",
       "    </tr>\n",
       "    <tr>\n",
       "      <th>9</th>\n",
       "      <td>361.350006</td>\n",
       "      <td>85.5</td>\n",
       "      <td>89.5</td>\n",
       "      <td>260.0</td>\n",
       "      <td>0.955307</td>\n",
       "    </tr>\n",
       "    <tr>\n",
       "      <th>10</th>\n",
       "      <td>361.350006</td>\n",
       "      <td>80.4</td>\n",
       "      <td>83.0</td>\n",
       "      <td>270.0</td>\n",
       "      <td>0.968675</td>\n",
       "    </tr>\n",
       "    <tr>\n",
       "      <th>11</th>\n",
       "      <td>361.350006</td>\n",
       "      <td>71.9</td>\n",
       "      <td>76.2</td>\n",
       "      <td>280.0</td>\n",
       "      <td>0.943570</td>\n",
       "    </tr>\n",
       "    <tr>\n",
       "      <th>12</th>\n",
       "      <td>361.350006</td>\n",
       "      <td>65.8</td>\n",
       "      <td>72.7</td>\n",
       "      <td>290.0</td>\n",
       "      <td>0.905089</td>\n",
       "    </tr>\n",
       "    <tr>\n",
       "      <th>13</th>\n",
       "      <td>361.350006</td>\n",
       "      <td>59.1</td>\n",
       "      <td>64.3</td>\n",
       "      <td>300.0</td>\n",
       "      <td>0.919129</td>\n",
       "    </tr>\n",
       "    <tr>\n",
       "      <th>14</th>\n",
       "      <td>361.350006</td>\n",
       "      <td>54.8</td>\n",
       "      <td>58.9</td>\n",
       "      <td>310.0</td>\n",
       "      <td>0.930390</td>\n",
       "    </tr>\n",
       "    <tr>\n",
       "      <th>15</th>\n",
       "      <td>361.350006</td>\n",
       "      <td>49.6</td>\n",
       "      <td>54.8</td>\n",
       "      <td>320.0</td>\n",
       "      <td>0.905109</td>\n",
       "    </tr>\n",
       "    <tr>\n",
       "      <th>16</th>\n",
       "      <td>361.350006</td>\n",
       "      <td>45.5</td>\n",
       "      <td>51.6</td>\n",
       "      <td>330.0</td>\n",
       "      <td>0.881783</td>\n",
       "    </tr>\n",
       "    <tr>\n",
       "      <th>17</th>\n",
       "      <td>361.350006</td>\n",
       "      <td>42.7</td>\n",
       "      <td>46.0</td>\n",
       "      <td>340.0</td>\n",
       "      <td>0.928261</td>\n",
       "    </tr>\n",
       "    <tr>\n",
       "      <th>18</th>\n",
       "      <td>361.350006</td>\n",
       "      <td>38.2</td>\n",
       "      <td>43.2</td>\n",
       "      <td>345.0</td>\n",
       "      <td>0.884259</td>\n",
       "    </tr>\n",
       "    <tr>\n",
       "      <th>19</th>\n",
       "      <td>361.350006</td>\n",
       "      <td>36.6</td>\n",
       "      <td>42.4</td>\n",
       "      <td>350.0</td>\n",
       "      <td>0.863208</td>\n",
       "    </tr>\n",
       "    <tr>\n",
       "      <th>20</th>\n",
       "      <td>361.350006</td>\n",
       "      <td>34.6</td>\n",
       "      <td>41.1</td>\n",
       "      <td>355.0</td>\n",
       "      <td>0.841849</td>\n",
       "    </tr>\n",
       "    <tr>\n",
       "      <th>21</th>\n",
       "      <td>361.350006</td>\n",
       "      <td>32.1</td>\n",
       "      <td>38.6</td>\n",
       "      <td>360.0</td>\n",
       "      <td>0.831606</td>\n",
       "    </tr>\n",
       "    <tr>\n",
       "      <th>22</th>\n",
       "      <td>361.350006</td>\n",
       "      <td>31.4</td>\n",
       "      <td>35.7</td>\n",
       "      <td>365.0</td>\n",
       "      <td>0.879552</td>\n",
       "    </tr>\n",
       "    <tr>\n",
       "      <th>23</th>\n",
       "      <td>361.350006</td>\n",
       "      <td>29.9</td>\n",
       "      <td>34.1</td>\n",
       "      <td>370.0</td>\n",
       "      <td>0.876833</td>\n",
       "    </tr>\n",
       "    <tr>\n",
       "      <th>24</th>\n",
       "      <td>361.350006</td>\n",
       "      <td>27.8</td>\n",
       "      <td>33.6</td>\n",
       "      <td>375.0</td>\n",
       "      <td>0.827381</td>\n",
       "    </tr>\n",
       "    <tr>\n",
       "      <th>25</th>\n",
       "      <td>361.350006</td>\n",
       "      <td>27.1</td>\n",
       "      <td>31.6</td>\n",
       "      <td>380.0</td>\n",
       "      <td>0.857595</td>\n",
       "    </tr>\n",
       "    <tr>\n",
       "      <th>26</th>\n",
       "      <td>361.350006</td>\n",
       "      <td>24.7</td>\n",
       "      <td>30.9</td>\n",
       "      <td>385.0</td>\n",
       "      <td>0.799353</td>\n",
       "    </tr>\n",
       "    <tr>\n",
       "      <th>27</th>\n",
       "      <td>361.350006</td>\n",
       "      <td>23.4</td>\n",
       "      <td>28.7</td>\n",
       "      <td>390.0</td>\n",
       "      <td>0.815331</td>\n",
       "    </tr>\n",
       "    <tr>\n",
       "      <th>28</th>\n",
       "      <td>361.350006</td>\n",
       "      <td>22.0</td>\n",
       "      <td>26.9</td>\n",
       "      <td>395.0</td>\n",
       "      <td>0.817844</td>\n",
       "    </tr>\n",
       "    <tr>\n",
       "      <th>29</th>\n",
       "      <td>361.350006</td>\n",
       "      <td>21.1</td>\n",
       "      <td>25.7</td>\n",
       "      <td>400.0</td>\n",
       "      <td>0.821012</td>\n",
       "    </tr>\n",
       "    <tr>\n",
       "      <th>30</th>\n",
       "      <td>361.350006</td>\n",
       "      <td>33.0</td>\n",
       "      <td>41.4</td>\n",
       "      <td>405.0</td>\n",
       "      <td>0.797101</td>\n",
       "    </tr>\n",
       "    <tr>\n",
       "      <th>31</th>\n",
       "      <td>361.350006</td>\n",
       "      <td>19.7</td>\n",
       "      <td>23.7</td>\n",
       "      <td>410.0</td>\n",
       "      <td>0.831224</td>\n",
       "    </tr>\n",
       "    <tr>\n",
       "      <th>32</th>\n",
       "      <td>361.350006</td>\n",
       "      <td>24.8</td>\n",
       "      <td>32.8</td>\n",
       "      <td>415.0</td>\n",
       "      <td>0.756098</td>\n",
       "    </tr>\n",
       "    <tr>\n",
       "      <th>33</th>\n",
       "      <td>361.350006</td>\n",
       "      <td>18.0</td>\n",
       "      <td>22.8</td>\n",
       "      <td>420.0</td>\n",
       "      <td>0.789474</td>\n",
       "    </tr>\n",
       "    <tr>\n",
       "      <th>34</th>\n",
       "      <td>361.350006</td>\n",
       "      <td>13.6</td>\n",
       "      <td>20.2</td>\n",
       "      <td>425.0</td>\n",
       "      <td>0.673267</td>\n",
       "    </tr>\n",
       "    <tr>\n",
       "      <th>35</th>\n",
       "      <td>361.350006</td>\n",
       "      <td>13.4</td>\n",
       "      <td>19.3</td>\n",
       "      <td>430.0</td>\n",
       "      <td>0.694301</td>\n",
       "    </tr>\n",
       "    <tr>\n",
       "      <th>36</th>\n",
       "      <td>361.350006</td>\n",
       "      <td>14.8</td>\n",
       "      <td>18.7</td>\n",
       "      <td>435.0</td>\n",
       "      <td>0.791444</td>\n",
       "    </tr>\n",
       "    <tr>\n",
       "      <th>37</th>\n",
       "      <td>361.350006</td>\n",
       "      <td>17.8</td>\n",
       "      <td>20.1</td>\n",
       "      <td>440.0</td>\n",
       "      <td>0.885572</td>\n",
       "    </tr>\n",
       "    <tr>\n",
       "      <th>38</th>\n",
       "      <td>361.350006</td>\n",
       "      <td>12.5</td>\n",
       "      <td>17.9</td>\n",
       "      <td>450.0</td>\n",
       "      <td>0.698324</td>\n",
       "    </tr>\n",
       "    <tr>\n",
       "      <th>39</th>\n",
       "      <td>361.350006</td>\n",
       "      <td>11.1</td>\n",
       "      <td>16.6</td>\n",
       "      <td>460.0</td>\n",
       "      <td>0.668675</td>\n",
       "    </tr>\n",
       "    <tr>\n",
       "      <th>40</th>\n",
       "      <td>361.350006</td>\n",
       "      <td>12.2</td>\n",
       "      <td>18.5</td>\n",
       "      <td>480.0</td>\n",
       "      <td>0.659459</td>\n",
       "    </tr>\n",
       "    <tr>\n",
       "      <th>41</th>\n",
       "      <td>361.350006</td>\n",
       "      <td>3.8</td>\n",
       "      <td>10.6</td>\n",
       "      <td>490.0</td>\n",
       "      <td>0.358491</td>\n",
       "    </tr>\n",
       "    <tr>\n",
       "      <th>42</th>\n",
       "      <td>361.350006</td>\n",
       "      <td>7.8</td>\n",
       "      <td>9.3</td>\n",
       "      <td>500.0</td>\n",
       "      <td>0.838710</td>\n",
       "    </tr>\n",
       "    <tr>\n",
       "      <th>43</th>\n",
       "      <td>361.350006</td>\n",
       "      <td>6.6</td>\n",
       "      <td>9.0</td>\n",
       "      <td>510.0</td>\n",
       "      <td>0.733333</td>\n",
       "    </tr>\n",
       "    <tr>\n",
       "      <th>44</th>\n",
       "      <td>361.350006</td>\n",
       "      <td>5.2</td>\n",
       "      <td>10.2</td>\n",
       "      <td>520.0</td>\n",
       "      <td>0.509804</td>\n",
       "    </tr>\n",
       "    <tr>\n",
       "      <th>45</th>\n",
       "      <td>361.350006</td>\n",
       "      <td>4.9</td>\n",
       "      <td>9.4</td>\n",
       "      <td>530.0</td>\n",
       "      <td>0.521277</td>\n",
       "    </tr>\n",
       "    <tr>\n",
       "      <th>46</th>\n",
       "      <td>361.350006</td>\n",
       "      <td>3.4</td>\n",
       "      <td>9.4</td>\n",
       "      <td>560.0</td>\n",
       "      <td>0.361702</td>\n",
       "    </tr>\n",
       "    <tr>\n",
       "      <th>47</th>\n",
       "      <td>361.350006</td>\n",
       "      <td>3.3</td>\n",
       "      <td>4.8</td>\n",
       "      <td>580.0</td>\n",
       "      <td>0.687500</td>\n",
       "    </tr>\n",
       "  </tbody>\n",
       "</table>\n",
       "</div>"
      ],
      "text/plain": [
       "         price    bid    ask  strike    spread\n",
       "0   361.350006  159.1  166.3   175.0  0.956705\n",
       "1   361.350006  154.1  161.6   180.0  0.953589\n",
       "2   361.350006  148.9  156.9   185.0  0.949012\n",
       "3   361.350006  160.5  165.7   190.0  0.968618\n",
       "4   361.350006  133.4  142.5   200.0  0.936140\n",
       "5   361.350006  150.7  157.3   210.0  0.958042\n",
       "6   361.350006  146.1  151.9   220.0  0.961817\n",
       "7   361.350006  124.0  131.3   230.0  0.944402\n",
       "8   361.350006   93.1   97.8   250.0  0.951943\n",
       "9   361.350006   85.5   89.5   260.0  0.955307\n",
       "10  361.350006   80.4   83.0   270.0  0.968675\n",
       "11  361.350006   71.9   76.2   280.0  0.943570\n",
       "12  361.350006   65.8   72.7   290.0  0.905089\n",
       "13  361.350006   59.1   64.3   300.0  0.919129\n",
       "14  361.350006   54.8   58.9   310.0  0.930390\n",
       "15  361.350006   49.6   54.8   320.0  0.905109\n",
       "16  361.350006   45.5   51.6   330.0  0.881783\n",
       "17  361.350006   42.7   46.0   340.0  0.928261\n",
       "18  361.350006   38.2   43.2   345.0  0.884259\n",
       "19  361.350006   36.6   42.4   350.0  0.863208\n",
       "20  361.350006   34.6   41.1   355.0  0.841849\n",
       "21  361.350006   32.1   38.6   360.0  0.831606\n",
       "22  361.350006   31.4   35.7   365.0  0.879552\n",
       "23  361.350006   29.9   34.1   370.0  0.876833\n",
       "24  361.350006   27.8   33.6   375.0  0.827381\n",
       "25  361.350006   27.1   31.6   380.0  0.857595\n",
       "26  361.350006   24.7   30.9   385.0  0.799353\n",
       "27  361.350006   23.4   28.7   390.0  0.815331\n",
       "28  361.350006   22.0   26.9   395.0  0.817844\n",
       "29  361.350006   21.1   25.7   400.0  0.821012\n",
       "30  361.350006   33.0   41.4   405.0  0.797101\n",
       "31  361.350006   19.7   23.7   410.0  0.831224\n",
       "32  361.350006   24.8   32.8   415.0  0.756098\n",
       "33  361.350006   18.0   22.8   420.0  0.789474\n",
       "34  361.350006   13.6   20.2   425.0  0.673267\n",
       "35  361.350006   13.4   19.3   430.0  0.694301\n",
       "36  361.350006   14.8   18.7   435.0  0.791444\n",
       "37  361.350006   17.8   20.1   440.0  0.885572\n",
       "38  361.350006   12.5   17.9   450.0  0.698324\n",
       "39  361.350006   11.1   16.6   460.0  0.668675\n",
       "40  361.350006   12.2   18.5   480.0  0.659459\n",
       "41  361.350006    3.8   10.6   490.0  0.358491\n",
       "42  361.350006    7.8    9.3   500.0  0.838710\n",
       "43  361.350006    6.6    9.0   510.0  0.733333\n",
       "44  361.350006    5.2   10.2   520.0  0.509804\n",
       "45  361.350006    4.9    9.4   530.0  0.521277\n",
       "46  361.350006    3.4    9.4   560.0  0.361702\n",
       "47  361.350006    3.3    4.8   580.0  0.687500"
      ]
     },
     "execution_count": 58,
     "metadata": {},
     "output_type": "execute_result"
    }
   ],
   "source": [
    "za"
   ]
  },
  {
   "cell_type": "code",
   "execution_count": null,
   "metadata": {},
   "outputs": [],
   "source": []
  },
  {
   "cell_type": "code",
   "execution_count": 27,
   "metadata": {
    "collapsed": true
   },
   "outputs": [
    {
     "name": "stdout",
     "output_type": "stream",
     "text": [
      "175.0 159.1 166.3\n",
      "180.0 154.1 161.6\n",
      "185.0 148.9 156.9\n",
      "190.0 160.5 165.7\n",
      "200.0 133.4 142.5\n",
      "210.0 150.7 157.3\n",
      "220.0 146.1 151.9\n",
      "230.0 124.0 131.3\n",
      "250.0 93.1 97.8\n",
      "260.0 85.5 89.5\n",
      "270.0 80.4 83.0\n",
      "280.0 71.9 76.2\n",
      "290.0 65.8 72.7\n",
      "300.0 59.1 64.3\n",
      "310.0 54.8 58.9\n",
      "320.0 49.6 54.8\n",
      "330.0 45.5 51.6\n",
      "340.0 42.7 46.0\n",
      "345.0 38.2 43.2\n",
      "350.0 36.6 42.4\n",
      "355.0 34.6 41.1\n",
      "360.0 32.1 38.6\n",
      "365.0 31.4 35.7\n",
      "370.0 29.9 34.1\n",
      "375.0 27.8 33.6\n",
      "380.0 27.1 31.6\n",
      "385.0 24.7 30.9\n",
      "390.0 23.4 28.7\n",
      "395.0 22.0 26.9\n",
      "400.0 21.1 25.7\n",
      "405.0 33.0 41.4\n",
      "410.0 19.7 23.7\n",
      "415.0 24.8 32.8\n",
      "420.0 18.0 22.8\n",
      "425.0 13.6 20.2\n",
      "430.0 13.4 19.3\n",
      "435.0 14.8 18.7\n",
      "440.0 17.8 20.1\n",
      "450.0 12.5 17.9\n",
      "460.0 11.1 16.6\n",
      "480.0 12.2 18.5\n",
      "490.0 3.8 10.6\n",
      "500.0 7.8 9.3\n",
      "510.0 6.6 9.0\n",
      "520.0 5.2 10.2\n",
      "530.0 4.9 9.4\n",
      "560.0 3.4 9.4\n",
      "580.0 3.3 4.8\n"
     ]
    },
    {
     "data": {
      "text/plain": [
       "0.6875"
      ]
     },
     "execution_count": 27,
     "metadata": {},
     "output_type": "execute_result"
    }
   ],
   "source": [
    "it = []\n",
    "zo = []\n",
    "g = pd.DataFrame()\n",
    "for x in range(len(goo)):\n",
    "    so = goo['bid'][x] / goo['ask'][x]\n",
    "    print(goo['strike'][x], goo['bid'][x], goo['ask'][x])\n",
    "    zo.append(so)\n",
    "    if so > .95:\n",
    "        it.append(x)\n",
    "mean(so)"
   ]
  },
  {
   "cell_type": "code",
   "execution_count": null,
   "metadata": {},
   "outputs": [],
   "source": []
  },
  {
   "cell_type": "code",
   "execution_count": null,
   "metadata": {},
   "outputs": [],
   "source": []
  },
  {
   "cell_type": "code",
   "execution_count": null,
   "metadata": {},
   "outputs": [],
   "source": []
  },
  {
   "cell_type": "code",
   "execution_count": null,
   "metadata": {},
   "outputs": [],
   "source": []
  },
  {
   "cell_type": "code",
   "execution_count": null,
   "metadata": {},
   "outputs": [],
   "source": []
  },
  {
   "cell_type": "code",
   "execution_count": null,
   "metadata": {},
   "outputs": [],
   "source": []
  },
  {
   "cell_type": "code",
   "execution_count": 4,
   "metadata": {},
   "outputs": [],
   "source": [
    "def options_chain(symbol):\n",
    "\n",
    "    tk = yf.Ticker(symbol)\n",
    "    # Expiration dates\n",
    "    exps = tk.options\n",
    "\n",
    "    # Get options for each expiration\n",
    "    options = pd.DataFrame()\n",
    "    for e in exps:\n",
    "        opt = tk.option_chain(e)\n",
    "        opt = pd.DataFrame().append(opt.calls).append(opt.puts)\n",
    "        opt['expirationDate'] = e\n",
    "        options = options.append(opt, ignore_index=True)\n",
    "\n",
    "    # Bizarre error in yfinance that gives the wrong expiration date\n",
    "    # Add 1 day to get the correct expiration date\n",
    "    options['expirationDate'] = pd.to_datetime(options['expirationDate']) + datetime.timedelta(days = 1)\n",
    "    options['dte'] = (options['expirationDate'] - datetime.datetime.today()).dt.days / 365\n",
    "    \n",
    "    # Boolean column if the option is a CALL\n",
    "    options['CALL'] = options['contractSymbol'].str[4:].apply(\n",
    "        lambda x: \"C\" in x)\n",
    "    \n",
    "    options[['bid', 'ask', 'strike']] = options[['bid', 'ask', 'strike']].apply(pd.to_numeric)\n",
    "    options['mark'] = (options['bid'] + options['ask']) / 2 # Calculate the midpoint of the bid-ask\n",
    "    \n",
    "    # Drop unnecessary and meaningless columns\n",
    "    options = options.drop(columns = ['contractSize', 'currency', 'change', 'percentChange', 'lastTradeDate', 'lastPrice'])\n",
    "\n",
    "    return options"
   ]
  },
  {
   "cell_type": "code",
   "execution_count": 5,
   "metadata": {},
   "outputs": [
    {
     "data": {
      "text/html": [
       "<div>\n",
       "<style scoped>\n",
       "    .dataframe tbody tr th:only-of-type {\n",
       "        vertical-align: middle;\n",
       "    }\n",
       "\n",
       "    .dataframe tbody tr th {\n",
       "        vertical-align: top;\n",
       "    }\n",
       "\n",
       "    .dataframe thead th {\n",
       "        text-align: right;\n",
       "    }\n",
       "</style>\n",
       "<table border=\"1\" class=\"dataframe\">\n",
       "  <thead>\n",
       "    <tr style=\"text-align: right;\">\n",
       "      <th></th>\n",
       "      <th>contractSymbol</th>\n",
       "      <th>strike</th>\n",
       "      <th>bid</th>\n",
       "      <th>ask</th>\n",
       "      <th>volume</th>\n",
       "      <th>openInterest</th>\n",
       "      <th>impliedVolatility</th>\n",
       "      <th>inTheMoney</th>\n",
       "      <th>expirationDate</th>\n",
       "      <th>dte</th>\n",
       "      <th>CALL</th>\n",
       "      <th>mark</th>\n",
       "    </tr>\n",
       "  </thead>\n",
       "  <tbody>\n",
       "    <tr>\n",
       "      <th>0</th>\n",
       "      <td>MCD210115C00070000</td>\n",
       "      <td>70.0</td>\n",
       "      <td>148.50</td>\n",
       "      <td>149.40</td>\n",
       "      <td>500.0</td>\n",
       "      <td>0</td>\n",
       "      <td>6.112307</td>\n",
       "      <td>True</td>\n",
       "      <td>2021-01-16</td>\n",
       "      <td>0.016438</td>\n",
       "      <td>True</td>\n",
       "      <td>148.950</td>\n",
       "    </tr>\n",
       "    <tr>\n",
       "      <th>1</th>\n",
       "      <td>MCD210115C00075000</td>\n",
       "      <td>75.0</td>\n",
       "      <td>0.00</td>\n",
       "      <td>0.00</td>\n",
       "      <td>30.0</td>\n",
       "      <td>0</td>\n",
       "      <td>0.000010</td>\n",
       "      <td>True</td>\n",
       "      <td>2021-01-16</td>\n",
       "      <td>0.016438</td>\n",
       "      <td>True</td>\n",
       "      <td>0.000</td>\n",
       "    </tr>\n",
       "    <tr>\n",
       "      <th>2</th>\n",
       "      <td>MCD210115C00080000</td>\n",
       "      <td>80.0</td>\n",
       "      <td>131.00</td>\n",
       "      <td>132.05</td>\n",
       "      <td>7.0</td>\n",
       "      <td>0</td>\n",
       "      <td>0.000010</td>\n",
       "      <td>True</td>\n",
       "      <td>2021-01-16</td>\n",
       "      <td>0.016438</td>\n",
       "      <td>True</td>\n",
       "      <td>131.525</td>\n",
       "    </tr>\n",
       "    <tr>\n",
       "      <th>3</th>\n",
       "      <td>MCD210115C00085000</td>\n",
       "      <td>85.0</td>\n",
       "      <td>126.00</td>\n",
       "      <td>127.05</td>\n",
       "      <td>7.0</td>\n",
       "      <td>0</td>\n",
       "      <td>0.000010</td>\n",
       "      <td>True</td>\n",
       "      <td>2021-01-16</td>\n",
       "      <td>0.016438</td>\n",
       "      <td>True</td>\n",
       "      <td>126.525</td>\n",
       "    </tr>\n",
       "    <tr>\n",
       "      <th>4</th>\n",
       "      <td>MCD210115C00090000</td>\n",
       "      <td>90.0</td>\n",
       "      <td>121.05</td>\n",
       "      <td>122.05</td>\n",
       "      <td>13.0</td>\n",
       "      <td>0</td>\n",
       "      <td>0.000010</td>\n",
       "      <td>True</td>\n",
       "      <td>2021-01-16</td>\n",
       "      <td>0.016438</td>\n",
       "      <td>True</td>\n",
       "      <td>121.550</td>\n",
       "    </tr>\n",
       "    <tr>\n",
       "      <th>...</th>\n",
       "      <td>...</td>\n",
       "      <td>...</td>\n",
       "      <td>...</td>\n",
       "      <td>...</td>\n",
       "      <td>...</td>\n",
       "      <td>...</td>\n",
       "      <td>...</td>\n",
       "      <td>...</td>\n",
       "      <td>...</td>\n",
       "      <td>...</td>\n",
       "      <td>...</td>\n",
       "      <td>...</td>\n",
       "    </tr>\n",
       "    <tr>\n",
       "      <th>548</th>\n",
       "      <td>MCD230120P00250000</td>\n",
       "      <td>250.0</td>\n",
       "      <td>50.70</td>\n",
       "      <td>54.80</td>\n",
       "      <td>4.0</td>\n",
       "      <td>61</td>\n",
       "      <td>0.267692</td>\n",
       "      <td>True</td>\n",
       "      <td>2023-01-21</td>\n",
       "      <td>2.030137</td>\n",
       "      <td>False</td>\n",
       "      <td>52.750</td>\n",
       "    </tr>\n",
       "    <tr>\n",
       "      <th>549</th>\n",
       "      <td>MCD230120P00260000</td>\n",
       "      <td>260.0</td>\n",
       "      <td>58.15</td>\n",
       "      <td>62.25</td>\n",
       "      <td>NaN</td>\n",
       "      <td>1</td>\n",
       "      <td>0.268608</td>\n",
       "      <td>True</td>\n",
       "      <td>2023-01-21</td>\n",
       "      <td>2.030137</td>\n",
       "      <td>False</td>\n",
       "      <td>60.200</td>\n",
       "    </tr>\n",
       "    <tr>\n",
       "      <th>550</th>\n",
       "      <td>MCD230120P00310000</td>\n",
       "      <td>310.0</td>\n",
       "      <td>102.15</td>\n",
       "      <td>105.70</td>\n",
       "      <td>NaN</td>\n",
       "      <td>1</td>\n",
       "      <td>0.295570</td>\n",
       "      <td>True</td>\n",
       "      <td>2023-01-21</td>\n",
       "      <td>2.030137</td>\n",
       "      <td>False</td>\n",
       "      <td>103.925</td>\n",
       "    </tr>\n",
       "    <tr>\n",
       "      <th>551</th>\n",
       "      <td>MCD230120P00330000</td>\n",
       "      <td>330.0</td>\n",
       "      <td>119.10</td>\n",
       "      <td>123.90</td>\n",
       "      <td>NaN</td>\n",
       "      <td>2</td>\n",
       "      <td>0.303657</td>\n",
       "      <td>True</td>\n",
       "      <td>2023-01-21</td>\n",
       "      <td>2.030137</td>\n",
       "      <td>False</td>\n",
       "      <td>121.500</td>\n",
       "    </tr>\n",
       "    <tr>\n",
       "      <th>552</th>\n",
       "      <td>MCD230120P00340000</td>\n",
       "      <td>340.0</td>\n",
       "      <td>136.50</td>\n",
       "      <td>141.50</td>\n",
       "      <td>2.0</td>\n",
       "      <td>2</td>\n",
       "      <td>0.392645</td>\n",
       "      <td>True</td>\n",
       "      <td>2023-01-21</td>\n",
       "      <td>2.030137</td>\n",
       "      <td>False</td>\n",
       "      <td>139.000</td>\n",
       "    </tr>\n",
       "  </tbody>\n",
       "</table>\n",
       "<p>553 rows × 12 columns</p>\n",
       "</div>"
      ],
      "text/plain": [
       "         contractSymbol  strike     bid     ask  volume  openInterest  \\\n",
       "0    MCD210115C00070000    70.0  148.50  149.40   500.0             0   \n",
       "1    MCD210115C00075000    75.0    0.00    0.00    30.0             0   \n",
       "2    MCD210115C00080000    80.0  131.00  132.05     7.0             0   \n",
       "3    MCD210115C00085000    85.0  126.00  127.05     7.0             0   \n",
       "4    MCD210115C00090000    90.0  121.05  122.05    13.0             0   \n",
       "..                  ...     ...     ...     ...     ...           ...   \n",
       "548  MCD230120P00250000   250.0   50.70   54.80     4.0            61   \n",
       "549  MCD230120P00260000   260.0   58.15   62.25     NaN             1   \n",
       "550  MCD230120P00310000   310.0  102.15  105.70     NaN             1   \n",
       "551  MCD230120P00330000   330.0  119.10  123.90     NaN             2   \n",
       "552  MCD230120P00340000   340.0  136.50  141.50     2.0             2   \n",
       "\n",
       "     impliedVolatility  inTheMoney expirationDate       dte   CALL     mark  \n",
       "0             6.112307        True     2021-01-16  0.016438   True  148.950  \n",
       "1             0.000010        True     2021-01-16  0.016438   True    0.000  \n",
       "2             0.000010        True     2021-01-16  0.016438   True  131.525  \n",
       "3             0.000010        True     2021-01-16  0.016438   True  126.525  \n",
       "4             0.000010        True     2021-01-16  0.016438   True  121.550  \n",
       "..                 ...         ...            ...       ...    ...      ...  \n",
       "548           0.267692        True     2023-01-21  2.030137  False   52.750  \n",
       "549           0.268608        True     2023-01-21  2.030137  False   60.200  \n",
       "550           0.295570        True     2023-01-21  2.030137  False  103.925  \n",
       "551           0.303657        True     2023-01-21  2.030137  False  121.500  \n",
       "552           0.392645        True     2023-01-21  2.030137  False  139.000  \n",
       "\n",
       "[553 rows x 12 columns]"
      ]
     },
     "execution_count": 5,
     "metadata": {},
     "output_type": "execute_result"
    }
   ],
   "source": [
    "options_chain('MCD')"
   ]
  },
  {
   "cell_type": "code",
   "execution_count": null,
   "metadata": {},
   "outputs": [],
   "source": []
  },
  {
   "cell_type": "code",
   "execution_count": null,
   "metadata": {},
   "outputs": [],
   "source": []
  },
  {
   "cell_type": "code",
   "execution_count": null,
   "metadata": {},
   "outputs": [],
   "source": [
    "tk = yf.Ticker('GE')"
   ]
  },
  {
   "cell_type": "code",
   "execution_count": 96,
   "metadata": {
    "scrolled": true
   },
   "outputs": [
    {
     "name": "stdout",
     "output_type": "stream",
     "text": [
      "ACB\n",
      "2020-02-19\n",
      "9.880000114440918    price price_  strike   bid   ask    spread\n",
      "0   9.88   9.88     3.0  7.20  7.70  0.935065\n",
      "1   9.88   9.88     4.0  6.70  7.30  0.917808\n",
      "2   9.88   9.88     5.0  6.30  6.90  0.913043\n",
      "3   9.88   9.88     7.0  5.35  6.40  0.835937\n",
      "4   9.88   9.88    10.0  4.75  5.00  0.950000\n",
      "5   9.88   9.88    12.0  4.10  4.65  0.881720\n",
      "6   9.88   9.88    15.0  3.70  4.30  0.860465\n",
      "7   9.88   9.88    17.0  3.15  4.05  0.777778\n",
      "8   9.88   9.88    20.0  3.00  3.55  0.845070\n",
      "9   9.88   9.88    22.0  2.60  3.30  0.787879\n",
      "10  9.88   9.88    25.0  2.50  3.05  0.819672\n"
     ]
    },
    {
     "data": {
      "image/png": "[encoded data removed]",
      "text/plain": [
       "<Figure size 792x576 with 1 Axes>"
      ]
     },
     "metadata": {
      "needs_background": "light"
     },
     "output_type": "display_data"
    },
    {
     "name": "stdout",
     "output_type": "stream",
     "text": [
      "ADBE\n",
      "2020-02-19\n",
      "483.739990234375      price  price_  strike     bid     ask    spread\n",
      "0   483.73  483.73   230.0  263.50  272.95  0.965378\n",
      "1   483.73  483.73   240.0  252.50  257.50  0.980583\n",
      "2   483.73  483.73   250.0  246.50  255.45  0.964964\n",
      "3   483.73  483.73   260.0  221.75  231.00  0.959957\n",
      "4   483.73  483.73   270.0  230.00  239.50  0.960334\n",
      "5   483.73  483.73   280.0  221.60  231.50  0.957235\n",
      "6   483.73  483.73   290.0  228.00  237.50  0.960000\n",
      "7   483.73  483.73   300.0  206.20  214.40  0.961754\n",
      "8   483.73  483.73   310.0  184.50  192.70  0.957447\n",
      "9   483.73  483.73   320.0  191.35  198.90  0.962041\n",
      "10  483.73  483.73   330.0  180.75  185.50  0.974394\n",
      "11  483.73  483.73   340.0  177.15  185.40  0.955502\n",
      "12  483.73  483.73   350.0  170.20  178.95  0.951104\n",
      "13  483.73  483.73   360.0  175.05  184.30  0.949810\n",
      "14  483.73  483.73   370.0  143.30  151.85  0.943694\n",
      "15  483.73  483.73   380.0  150.40  158.95  0.946209\n",
      "16  483.73  483.73   390.0  144.00  152.45  0.944572\n",
      "17  483.73  483.73   400.0  137.80  147.00  0.937415\n",
      "18  483.73  483.73   410.0  133.30  139.85  0.953164\n",
      "19  483.73  483.73   420.0  127.55  133.75  0.953645\n",
      "20  483.73  483.73   430.0  121.90  128.35  0.949747\n",
      "21  483.73  483.73   435.0  119.20  126.55  0.941920\n",
      "22  483.73  483.73   440.0  116.35  124.20  0.936795\n",
      "23  483.73  483.73   445.0  113.60  120.80  0.940397\n",
      "24  483.73  483.73   450.0  111.10  119.50  0.929707\n",
      "25  483.73  483.73   455.0  108.40  114.95  0.943019\n",
      "26  483.73  483.73   460.0  106.00  114.00  0.929825\n",
      "27  483.73  483.73   465.0  103.40  108.40  0.953875\n",
      "28  483.73  483.73   470.0  101.00  107.25  0.941725\n",
      "29  483.73  483.73   475.0   98.50  101.85  0.967108\n",
      "30  483.73  483.73   480.0   96.40   99.60  0.967871\n",
      "31  483.73  483.73   485.0   93.40  101.35  0.921559\n",
      "32  483.73  483.73   490.0   91.85   98.30  0.934385\n",
      "33  483.73  483.73   495.0   89.30   95.50  0.935079\n",
      "34  483.73  483.73   500.0   87.90   94.35  0.931638\n",
      "35  483.73  483.73   505.0   86.05   92.00  0.935326\n",
      "36  483.73  483.73   510.0   83.90   89.85  0.933779\n",
      "37  483.73  483.73   515.0   92.50   97.50  0.948718\n",
      "38  483.73  483.73   520.0   80.15   86.95  0.921794\n",
      "39  483.73  483.73   525.0   78.30   85.30  0.917937\n",
      "40  483.73  483.73   530.0   76.55   83.10  0.921179\n",
      "41  483.73  483.73   540.0   72.95   79.60  0.916457\n",
      "42  483.73  483.73   550.0   69.55   76.25  0.912131\n",
      "43  483.73  483.73   560.0   72.40   77.80  0.930591\n",
      "44  483.73  483.73   570.0   63.15   69.75  0.905376\n",
      "45  483.73  483.73   580.0   59.95   64.75  0.925869\n",
      "46  483.73  483.73   590.0   57.15   63.45  0.900709\n",
      "47  483.73  483.73   600.0   54.25   61.00  0.889344\n",
      "48  483.73  483.73   610.0   51.65   58.25  0.886695\n",
      "49  483.73  483.73   620.0   49.00   55.80  0.878136\n",
      "50  483.73  483.73   630.0   46.25   53.30  0.867730\n",
      "51  483.73  483.73   640.0   43.90   50.75  0.865025\n",
      "52  483.73  483.73   660.0   45.50   49.50  0.919192\n",
      "53  483.73  483.73   680.0   43.00   48.00  0.895833\n",
      "54  483.73  483.73   700.0   30.55   37.85  0.807133\n",
      "55  483.73  483.73   720.0   27.80   34.75  0.800000\n",
      "56  483.73  483.73   740.0   24.70   31.75  0.777953\n",
      "57  483.73  483.73   760.0   21.75   28.50  0.763158\n"
     ]
    },
    {
     "data": {
      "image/png": "[encoded data removed]",
      "text/plain": [
       "<Figure size 792x576 with 1 Axes>"
      ]
     },
     "metadata": {
      "needs_background": "light"
     },
     "output_type": "display_data"
    },
    {
     "name": "stdout",
     "output_type": "stream",
     "text": [
      "AMC\n",
      "2020-02-19\n",
      "3.859999895095825    price price_  strike   bid   ask    spread\n",
      "0   3.85   3.85     0.5  1.78  2.04  0.872549\n",
      "1   3.85   3.85     1.0  1.61  1.86  0.865591\n",
      "2   3.85   3.85     1.5  1.55  1.66  0.933735\n",
      "3   3.85   3.85     2.0  1.50  1.59  0.943396\n",
      "4   3.85   3.85     2.5  1.40  1.54  0.909091\n",
      "5   3.85   3.85     3.0  1.28  1.36  0.941176\n",
      "6   3.85   3.85     3.5  1.24  1.30  0.953846\n",
      "7   3.85   3.85     4.0  1.13  1.34  0.843284\n",
      "8   3.85   3.85     4.5  1.05  1.34  0.783582\n",
      "9   3.85   3.85     5.0  0.99  1.00  0.990000\n",
      "10  3.85   3.85     5.5  0.88  1.20  0.733333\n",
      "11  3.85   3.85     7.0  0.70  0.95  0.736842\n",
      "12  3.85   3.85    10.0  0.63  0.71  0.887324\n",
      "13  3.85   3.85    12.0  0.48  0.52  0.923077\n"
     ]
    },
    {
     "data": {
      "image/png": "[encoded data removed]",
      "text/plain": [
       "<Figure size 792x576 with 1 Axes>"
      ]
     },
     "metadata": {
      "needs_background": "light"
     },
     "output_type": "display_data"
    },
    {
     "name": "stdout",
     "output_type": "stream",
     "text": [
      "AMD\n",
      "2020-02-19\n",
      "89.83000183105469     price price_  strike    bid    ask    spread\n",
      "0   89.83  89.83    40.0  55.65  60.35  0.922121\n",
      "1   89.83  89.83    42.5  53.65  58.45  0.917879\n",
      "2   89.83  89.83    45.0  52.25  56.25  0.928889\n",
      "3   89.83  89.83    47.5  50.05  54.95  0.910828\n",
      "4   89.83  89.83    50.0  48.80  53.00  0.920755\n",
      "5   89.83  89.83    55.0  44.60  49.40  0.902834\n",
      "6   89.83  89.83    60.0  41.50  46.30  0.896328\n",
      "7   89.83  89.83    65.0  38.10  42.75  0.891228\n",
      "8   89.83  89.83    67.5  38.20  41.20  0.927184\n",
      "9   89.83  89.83    70.0  37.05  40.05  0.925094\n",
      "10  89.83  89.83    72.5  34.70  39.30  0.882952\n",
      "11  89.83  89.83    75.0  34.90  36.85  0.947083\n",
      "12  89.83  89.83    77.5  32.95  35.90  0.917827\n",
      "13  89.83  89.83    80.0  31.85  33.10  0.962236\n",
      "14  89.83  89.83    82.5  30.85  32.25  0.956589\n",
      "15  89.83  89.83    85.0  30.00  31.65  0.947867\n",
      "16  89.83  89.83    87.5  29.10  30.35  0.958814\n",
      "17  89.83  89.83    90.0  28.15  29.10  0.967354\n",
      "18  89.83  89.83    92.5  27.25  28.30  0.962898\n",
      "19  89.83  89.83    95.0  26.50  27.45  0.965392\n",
      "20  89.83  89.83    97.5  24.70  26.65  0.926829\n",
      "21  89.83  89.83   100.0  24.75  25.65  0.964912\n",
      "22  89.83  89.83   105.0  23.20  23.90  0.970711\n",
      "23  89.83  89.83   110.0  21.65  22.55  0.960089\n",
      "24  89.83  89.83   115.0  20.20  21.30  0.948357\n",
      "25  89.83  89.83   120.0  18.85  20.05  0.940150\n",
      "26  89.83  89.83   125.0  17.60  18.80  0.936170\n",
      "27  89.83  89.83   130.0  16.50  17.85  0.924370\n",
      "28  89.83  89.83   135.0  15.30  17.05  0.897361\n",
      "29  89.83  89.83   140.0  14.55  15.95  0.912226\n",
      "30  89.83  89.83   145.0  12.30  15.40  0.798701\n",
      "31  89.83  89.83   150.0  12.00  13.80  0.869565\n",
      "32  89.83  89.83   155.0  11.65  13.45  0.866171\n",
      "33  89.83  89.83   160.0  10.35  13.15  0.787072\n",
      "34  89.83  89.83   165.0   9.50  12.40  0.766129\n",
      "35  89.83  89.83   170.0   8.45  12.15  0.695473\n",
      "36  89.83  89.83   175.0   9.30  11.25  0.826667\n",
      "37  89.83  89.83   180.0   9.25   9.80  0.943878\n",
      "38  89.83  89.83   185.0   8.90   9.45  0.941799\n"
     ]
    },
    {
     "data": {
      "image/png": "[encoded data removed]",
      "text/plain": [
       "<Figure size 792x576 with 1 Axes>"
      ]
     },
     "metadata": {
      "needs_background": "light"
     },
     "output_type": "display_data"
    },
    {
     "name": "stdout",
     "output_type": "stream",
     "text": [
      "AMGN\n",
      "2020-02-19\n",
      "229.85000610351562      price  price_  strike     bid     ask    spread\n",
      "0   229.85  229.85   110.0  126.00  131.00  0.961832\n",
      "1   229.85  229.85   115.0  110.00  115.00  0.956522\n",
      "2   229.85  229.85   120.0  116.00  121.00  0.958678\n",
      "3   229.85  229.85   125.0  101.50  106.50  0.953052\n",
      "4   229.85  229.85   130.0  106.00  111.00  0.954955\n",
      "5   229.85  229.85   140.0   95.00   99.00  0.959596\n",
      "6   229.85  229.85   145.0   81.50   86.50  0.942197\n",
      "7   229.85  229.85   150.0   87.50   92.50  0.945946\n",
      "8   229.85  229.85   155.0   83.00   88.00  0.943182\n",
      "9   229.85  229.85   160.0   78.50   83.50  0.940120\n",
      "10  229.85  229.85   165.0   66.00   70.50  0.936170\n",
      "11  229.85  229.85   170.0   71.20   75.45  0.943671\n",
      "12  229.85  229.85   175.0   67.00   72.00  0.930556\n",
      "13  229.85  229.85   180.0   63.55   67.95  0.935247\n",
      "14  229.85  229.85   190.0   56.50   61.50  0.918699\n",
      "15  229.85  229.85   195.0   53.10   57.90  0.917098\n",
      "16  229.85  229.85   200.0   50.00   55.00  0.909091\n",
      "17  229.85  229.85   205.0   36.15   40.70  0.888206\n",
      "18  229.85  229.85   210.0   44.00   49.00  0.897959\n",
      "19  229.85  229.85   215.0   41.65   46.30  0.899568\n",
      "20  229.85  229.85   220.0   39.15   43.35  0.903114\n",
      "21  229.85  229.85   225.0   36.60   41.40  0.884058\n",
      "22  229.85  229.85   230.0   34.00   39.00  0.871795\n",
      "23  229.85  229.85   235.0   31.60   36.40  0.868132\n",
      "24  229.85  229.85   240.0   29.55   34.45  0.857765\n",
      "25  229.85  229.85   245.0   27.55   32.45  0.848998\n",
      "26  229.85  229.85   250.0   25.55   30.45  0.839080\n",
      "27  229.85  229.85   255.0   16.75   20.75  0.807229\n",
      "28  229.85  229.85   260.0   22.30   26.20  0.851145\n",
      "29  229.85  229.85   265.0   16.75   20.75  0.807229\n",
      "30  229.85  229.85   270.0   19.10   23.40  0.816239\n",
      "31  229.85  229.85   275.0   13.00   17.00  0.764706\n",
      "32  229.85  229.85   280.0   16.15   20.40  0.791667\n",
      "33  229.85  229.85   290.0   13.65   17.85  0.764706\n",
      "34  229.85  229.85   300.0   11.30   14.95  0.755853\n",
      "35  229.85  229.85   310.0    9.60   13.95  0.688172\n",
      "36  229.85  229.85   320.0    8.15   12.45  0.654618\n",
      "37  229.85  229.85   330.0    6.60   11.00  0.600000\n",
      "38  229.85  229.85   340.0    5.60   10.00  0.560000\n",
      "39  229.85  229.85   360.0    3.20    6.30  0.507937\n",
      "40  229.85  229.85   370.0    2.53    6.85  0.369343\n",
      "41  229.85  229.85   380.0    2.51    6.25  0.401600\n"
     ]
    },
    {
     "data": {
      "image/png": "[encoded data removed]",
      "text/plain": [
       "<Figure size 792x576 with 1 Axes>"
      ]
     },
     "metadata": {
      "needs_background": "light"
     },
     "output_type": "display_data"
    },
    {
     "name": "stdout",
     "output_type": "stream",
     "text": [
      "AMZN\n",
      "2020-02-19\n",
      "3104.199951171875        price   price_  strike      bid      ask    spread\n",
      "0    3104.19  3104.19  1460.0  1779.95  1793.00  0.992722\n",
      "1    3104.19  3104.19  1480.0  1761.80  1776.00  0.992005\n",
      "2    3104.19  3104.19  1500.0  1743.75  1758.00  0.991894\n",
      "3    3104.19  3104.19  1520.0  1664.85  1679.00  0.991572\n",
      "4    3104.19  3104.19  1540.0  1660.45  1670.00  0.994281\n",
      "..       ...      ...     ...      ...      ...       ...\n",
      "121  3104.19  3104.19  4750.0   215.85   227.15  0.950253\n",
      "122  3104.19  3104.19  4800.0   208.80   219.65  0.950603\n",
      "123  3104.19  3104.19  4900.0   195.00   206.15  0.945913\n",
      "124  3104.19  3104.19  5000.0   181.95   193.00  0.942746\n",
      "125  3104.19  3104.19  5100.0   169.85   179.50  0.946240\n",
      "\n",
      "[126 rows x 6 columns]\n"
     ]
    },
    {
     "data": {
      "image/png": "[encoded data removed]",
      "text/plain": [
       "<Figure size 792x576 with 1 Axes>"
      ]
     },
     "metadata": {
      "needs_background": "light"
     },
     "output_type": "display_data"
    },
    {
     "name": "stdout",
     "output_type": "stream",
     "text": [
      "ATVI\n",
      "2020-02-19\n",
      "82.58000183105469     price price_  strike    bid    ask    spread\n",
      "0   82.58  82.58    37.5  52.60  57.35  0.917175\n",
      "1   82.58  82.58    40.0  50.75  54.70  0.927788\n",
      "2   82.58  82.58    42.5  48.30  52.70  0.916509\n",
      "3   82.58  82.58    45.0  36.00  41.00  0.878049\n",
      "4   82.58  82.58    47.5  43.35  47.30  0.916490\n",
      "5   82.58  82.58    50.0  41.70  46.40  0.898707\n",
      "6   82.58  82.58    55.0  37.65  42.40  0.887972\n",
      "7   82.58  82.58    60.0  34.20  38.90  0.879177\n",
      "8   82.58  82.58    65.0  30.35  34.70  0.874640\n",
      "9   82.58  82.58    67.5  23.45  27.10  0.865314\n",
      "10  82.58  82.58    70.0  27.25  31.35  0.869219\n",
      "11  82.58  82.58    72.5  25.80  29.65  0.870152\n",
      "12  82.58  82.58    75.0  24.90  28.70  0.867596\n",
      "13  82.58  82.58    77.5  23.75  27.50  0.863636\n",
      "14  82.58  82.58    80.0  22.50  25.65  0.877193\n",
      "15  82.58  82.58    82.5  21.35  23.60  0.904661\n",
      "16  82.58  82.58    85.0  19.75  22.80  0.866228\n",
      "17  82.58  82.58    87.5  18.40  21.30  0.863850\n",
      "18  82.58  82.58    90.0  17.40  20.75  0.838554\n",
      "19  82.58  82.58    92.5  16.20  19.60  0.826531\n",
      "20  82.58  82.58    95.0  15.25  18.00  0.847222\n",
      "21  82.58  82.58    97.5  14.55  16.95  0.858407\n",
      "22  82.58  82.58   100.0  13.45  15.90  0.845912\n",
      "23  82.58  82.58   105.0  11.45  14.55  0.786942\n",
      "24  82.58  82.58   110.0  10.10  12.95  0.779923\n",
      "25  82.58  82.58   115.0   8.55  11.55  0.740260\n",
      "26  82.58  82.58   120.0   7.35  10.55  0.696682\n",
      "27  82.58  82.58   130.0   5.60   8.25  0.678788\n",
      "28  82.58  82.58   135.0   4.65   6.10  0.762295\n"
     ]
    },
    {
     "data": {
      "image/png": "[encoded data removed]",
      "text/plain": [
       "<Figure size 792x576 with 1 Axes>"
      ]
     },
     "metadata": {
      "needs_background": "light"
     },
     "output_type": "display_data"
    },
    {
     "name": "stdout",
     "output_type": "stream",
     "text": [
      "AXP\n",
      "2020-02-19\n",
      "121.2647933959961      price  price_  strike    bid    ask    spread\n",
      "0   121.26  121.26    45.0  75.35  78.50  0.959873\n",
      "1   121.26  121.26    50.0  69.40  72.35  0.959226\n",
      "2   121.26  121.26    55.0  65.85  69.10  0.952967\n",
      "3   121.26  121.26    60.0  60.65  64.50  0.940310\n",
      "4   121.26  121.26    65.0  57.35  60.15  0.953450\n",
      "5   121.26  121.26    70.0  52.95  56.15  0.943010\n",
      "6   121.26  121.26    75.0  48.70  52.15  0.933845\n",
      "7   121.26  121.26    80.0  45.00  48.35  0.930714\n",
      "8   121.26  121.26    85.0  41.00  44.30  0.925508\n",
      "9   121.26  121.26    90.0  37.40  40.85  0.915545\n",
      "10  121.26  121.26    95.0  33.80  37.50  0.901333\n",
      "11  121.26  121.26   100.0  30.45  34.35  0.886463\n",
      "12  121.26  121.26   105.0  26.80  30.50  0.878689\n",
      "13  121.26  121.26   110.0  24.60  28.60  0.860140\n",
      "14  121.26  121.26   115.0  22.20  26.40  0.840909\n",
      "15  121.26  121.26   120.0  19.95  23.70  0.841772\n",
      "16  121.26  121.26   125.0  17.75  21.40  0.829439\n",
      "17  121.26  121.26   130.0  15.50  19.85  0.780856\n",
      "18  121.26  121.26   135.0  14.30  17.85  0.801120\n",
      "19  121.26  121.26   140.0  12.95  16.45  0.787234\n",
      "20  121.26  121.26   145.0  10.80  14.85  0.727273\n",
      "21  121.26  121.26   150.0   9.15  12.95  0.706564\n",
      "22  121.26  121.26   155.0   8.15  12.35  0.659919\n",
      "23  121.26  121.26   165.0   7.95   9.70  0.819588\n",
      "24  121.26  121.26   170.0   5.40   9.30  0.580645\n",
      "25  121.26  121.26   175.0   2.51   7.45  0.336913\n",
      "26  121.26  121.26   180.0   4.40   7.85  0.560510\n",
      "27  121.26  121.26   185.0   4.40   6.00  0.733333\n"
     ]
    },
    {
     "data": {
      "image/png": "[encoded data removed]",
      "text/plain": [
       "<Figure size 792x576 with 1 Axes>"
      ]
     },
     "metadata": {
      "needs_background": "light"
     },
     "output_type": "display_data"
    },
    {
     "name": "stdout",
     "output_type": "stream",
     "text": [
      "BA\n",
      "2020-02-19\n",
      "232.05999755859375      price  price_  strike     bid     ask    spread\n",
      "0   232.05  232.05    75.0  138.15  142.25  0.971178\n",
      "1   232.05  232.05    80.0  133.80  137.90  0.970268\n",
      "2   232.05  232.05    85.0  129.50  133.50  0.970037\n",
      "3   232.05  232.05    90.0  125.60  129.20  0.972136\n",
      "4   232.05  232.05    95.0  121.40  125.25  0.969261\n",
      "5   232.05  232.05   100.0  117.40  120.95  0.970649\n",
      "6   232.05  232.05   105.0  113.40  117.00  0.969231\n",
      "7   232.05  232.05   110.0  109.50  113.30  0.966461\n",
      "8   232.05  232.05   115.0  105.75  109.10  0.969294\n",
      "9   232.05  232.05   120.0  102.10  105.60  0.966856\n",
      "10  232.05  232.05   125.0   98.50  102.10  0.964740\n",
      "11  232.05  232.05   130.0   95.05   98.65  0.963507\n",
      "12  232.05  232.05   135.0   91.85   95.20  0.964811\n",
      "13  232.05  232.05   140.0   88.40   92.15  0.959305\n",
      "14  232.05  232.05   145.0   85.25   88.80  0.960023\n",
      "15  232.05  232.05   150.0   82.10   85.90  0.955763\n",
      "16  232.05  232.05   155.0   79.15   82.95  0.954189\n",
      "17  232.05  232.05   160.0   77.00   79.90  0.963705\n",
      "18  232.05  232.05   165.0   73.45   77.20  0.951425\n",
      "19  232.05  232.05   170.0   70.85   74.25  0.954209\n",
      "20  232.05  232.05   175.0   68.15   71.70  0.950488\n",
      "21  232.05  232.05   180.0   65.65   68.95  0.952139\n",
      "22  232.05  232.05   185.0   63.25   66.70  0.948276\n",
      "23  232.05  232.05   190.0   60.80   64.35  0.944833\n",
      "24  232.05  232.05   195.0   58.55   62.10  0.942834\n",
      "25  232.05  232.05   200.0   58.10   59.80  0.971572\n",
      "26  232.05  232.05   205.0   55.15   57.85  0.953328\n",
      "27  232.05  232.05   210.0   52.20   55.80  0.935484\n",
      "28  232.05  232.05   215.0   50.55   53.25  0.949296\n",
      "29  232.05  232.05   220.0   50.00   51.70  0.967118\n",
      "30  232.05  232.05   225.0   46.45   50.00  0.929000\n",
      "31  232.05  232.05   230.0   44.70   48.15  0.928349\n",
      "32  232.05  232.05   235.0   43.70   46.55  0.938776\n",
      "33  232.05  232.05   240.0   42.00   44.85  0.936455\n",
      "34  232.05  232.05   245.0   39.85   43.10  0.924594\n",
      "35  232.05  232.05   250.0   39.05   41.80  0.934211\n",
      "36  232.05  232.05   255.0   36.90   40.15  0.919054\n",
      "37  232.05  232.05   260.0   35.55   38.55  0.922179\n",
      "38  232.05  232.05   265.0   34.15   37.40  0.913102\n",
      "39  232.05  232.05   270.0   33.25   35.95  0.924896\n",
      "40  232.05  232.05   275.0   32.95   34.75  0.948201\n",
      "41  232.05  232.05   280.0   30.40   33.55  0.906110\n",
      "42  232.05  232.05   285.0   29.25   32.40  0.902778\n",
      "43  232.05  232.05   290.0   28.15   31.35  0.897927\n",
      "44  232.05  232.05   300.0   27.90   29.10  0.958763\n",
      "45  232.05  232.05   310.0   24.15   27.25  0.886239\n",
      "46  232.05  232.05   320.0   22.40   25.50  0.878431\n",
      "47  232.05  232.05   330.0   22.10   23.70  0.932489\n",
      "48  232.05  232.05   340.0   19.25   22.30  0.863229\n",
      "49  232.05  232.05   350.0   19.20   20.80  0.923077\n",
      "50  232.05  232.05   360.0   18.10   19.45  0.930591\n"
     ]
    },
    {
     "data": {
      "image/png": "[encoded data removed]",
      "text/plain": [
       "<Figure size 792x576 with 1 Axes>"
      ]
     },
     "metadata": {
      "needs_background": "light"
     },
     "output_type": "display_data"
    },
    {
     "name": "stdout",
     "output_type": "stream",
     "text": [
      "BABA\n",
      "2020-02-19\n",
      "263.79998779296875      price  price_  strike     bid     ask    spread\n",
      "0   263.79  263.79   100.0  142.75  146.95  0.971419\n",
      "1   263.79  263.79   110.0  134.50  138.65  0.970069\n",
      "2   263.79  263.79   115.0  130.45  134.65  0.968808\n",
      "3   263.79  263.79   120.0  126.50  130.70  0.967865\n",
      "4   263.79  263.79   125.0  122.60  126.80  0.966877\n",
      "5   263.79  263.79   130.0  118.80  122.25  0.971779\n",
      "6   263.79  263.79   135.0  115.10  119.15  0.966009\n",
      "7   263.79  263.79   140.0  111.45  115.65  0.963684\n",
      "8   263.79  263.79   145.0  107.90  111.95  0.963823\n",
      "9   263.79  263.79   150.0  104.45  108.20  0.965342\n",
      "10  263.79  263.79   155.0  101.00  105.20  0.960076\n",
      "11  263.79  263.79   160.0   97.70  101.90  0.958783\n",
      "12  263.79  263.79   165.0   94.50   97.95  0.964778\n",
      "13  263.79  263.79   170.0   91.35   95.55  0.956044\n",
      "14  263.79  263.79   175.0   88.30   92.45  0.955111\n",
      "15  263.79  263.79   180.0   85.35   89.50  0.953631\n",
      "16  263.79  263.79   185.0   82.40   86.55  0.952051\n",
      "17  263.79  263.79   190.0   79.60   83.75  0.950448\n",
      "18  263.79  263.79   195.0   76.85   79.70  0.964241\n",
      "19  263.79  263.79   200.0   74.70   77.75  0.960772\n",
      "20  263.79  263.79   210.0   71.00   72.70  0.976616\n",
      "21  263.79  263.79   220.0   65.05   67.80  0.959440\n",
      "22  263.79  263.79   230.0   60.45   62.50  0.967200\n",
      "23  263.79  263.79   235.0   57.80   61.05  0.946765\n",
      "24  263.79  263.79   240.0   56.00   58.95  0.949958\n",
      "25  263.79  263.79   245.0   55.00   57.00  0.964912\n",
      "26  263.79  263.79   250.0   52.50   54.80  0.958029\n",
      "27  263.79  263.79   255.0   49.90   53.05  0.940622\n",
      "28  263.79  263.79   260.0   48.25   51.15  0.943304\n",
      "29  263.79  263.79   265.0   46.00   49.70  0.925553\n",
      "30  263.79  263.79   270.0   44.65   47.55  0.939012\n",
      "31  263.79  263.79   275.0   42.85   45.90  0.933551\n",
      "32  263.79  263.79   280.0   41.35   43.80  0.944064\n",
      "33  263.79  263.79   285.0   39.70   42.65  0.930832\n",
      "34  263.79  263.79   290.0   38.10   41.15  0.925881\n",
      "35  263.79  263.79   295.0   36.25   39.65  0.914250\n",
      "36  263.79  263.79   300.0   36.00   38.00  0.947368\n",
      "37  263.79  263.79   305.0   33.45   37.10  0.901617\n",
      "38  263.79  263.79   310.0   32.60   35.45  0.919605\n",
      "39  263.79  263.79   315.0   31.25   34.45  0.907112\n",
      "40  263.79  263.79   320.0   29.90   32.95  0.907436\n",
      "41  263.79  263.79   330.0   27.60   30.55  0.903437\n",
      "42  263.79  263.79   340.0   25.50   28.50  0.894737\n",
      "43  263.79  263.79   350.0   23.60   26.20  0.900763\n",
      "44  263.79  263.79   360.0   21.50   24.55  0.875764\n",
      "45  263.79  263.79   370.0   19.85   22.55  0.880266\n",
      "46  263.79  263.79   380.0   18.35   20.95  0.875895\n",
      "47  263.79  263.79   390.0   16.55   19.50  0.848718\n",
      "48  263.79  263.79   400.0   16.15   17.85  0.904762\n",
      "49  263.79  263.79   410.0   14.20   16.80  0.845238\n",
      "50  263.79  263.79   420.0   12.90   15.50  0.832258\n",
      "51  263.79  263.79   430.0   13.00   14.60  0.890411\n",
      "52  263.79  263.79   440.0   10.95   13.40  0.817164\n",
      "53  263.79  263.79   450.0   10.55   12.55  0.840637\n",
      "54  263.79  263.79   460.0   10.00   11.00  0.909091\n"
     ]
    },
    {
     "data": {
      "image/png": "[encoded data removed]",
      "text/plain": [
       "<Figure size 792x576 with 1 Axes>"
      ]
     },
     "metadata": {
      "needs_background": "light"
     },
     "output_type": "display_data"
    },
    {
     "name": "stdout",
     "output_type": "stream",
     "text": [
      "BAC\n",
      "2020-02-19\n",
      "28.799999237060547     price price_  strike    bid    ask    spread\n",
      "0   28.79  28.79    15.0  17.35  17.85  0.971989\n",
      "1   28.79  28.79    18.0  14.40  15.10  0.953642\n",
      "2   28.79  28.79    20.0  12.95  13.45  0.962825\n",
      "3   28.79  28.79    23.0  10.35  11.20  0.924107\n",
      "4   28.79  28.79    25.0   9.45   9.70  0.974227\n",
      "5   28.79  28.79    27.0   8.25   8.45  0.976331\n",
      "6   28.79  28.79    30.0   6.60   6.90  0.956522\n",
      "7   28.79  28.79    32.0   5.65   6.00  0.941667\n",
      "8   28.79  28.79    35.0   4.30   4.65  0.924731\n",
      "9   28.79  28.79    37.0   3.60   3.95  0.911392\n",
      "10  28.79  28.79    40.0   3.00   3.05  0.983607\n",
      "11  28.79  28.79    45.0   1.95   2.12  0.919811\n"
     ]
    },
    {
     "data": {
      "image/png": "[encoded data removed]",
      "text/plain": [
       "<Figure size 792x576 with 1 Axes>"
      ]
     },
     "metadata": {
      "needs_background": "light"
     },
     "output_type": "display_data"
    },
    {
     "name": "stdout",
     "output_type": "stream",
     "text": [
      "BLNK\n",
      "2020-02-19\n",
      "27.190000534057617     price price_  strike    bid    ask    spread\n",
      "0   27.19  27.19     2.5  39.55  43.45  0.910242\n",
      "1   27.19  27.19     5.0  36.85  40.85  0.902081\n",
      "2   27.19  27.19     7.5  34.75  38.15  0.910878\n",
      "3   27.19  27.19    10.0  32.75  36.05  0.908460\n",
      "4   27.19  27.19    12.5  30.75  34.40  0.893895\n",
      "5   27.19  27.19    15.0  28.90  33.35  0.866567\n",
      "6   27.19  27.19    17.5  27.70  31.85  0.869702\n",
      "7   27.19  27.19    20.0  26.55  28.50  0.931579\n",
      "8   27.19  27.19    22.5  25.25  29.90  0.844482\n",
      "9   27.19  27.19    25.0  24.85  27.40  0.906934\n",
      "10  27.19  27.19    30.0  23.45  25.00  0.938000\n",
      "11  27.19  27.19    35.0  22.00  25.25  0.871287\n",
      "12  27.19  27.19    40.0  20.75  23.85  0.870021\n",
      "13  27.19  27.19    45.0  19.55  22.35  0.874720\n",
      "14  27.19  27.19    50.0  19.20  21.25  0.903529\n",
      "15  27.19  27.19    55.0  17.60  20.20  0.871287\n",
      "16  27.19  27.19    60.0  16.50  19.95  0.827068\n",
      "17  27.19  27.19    65.0  15.80  18.50  0.854054\n",
      "18  27.19  27.19    70.0  14.25  18.05  0.789474\n",
      "19  27.19  27.19    75.0  13.75  17.95  0.766017\n",
      "20  27.19  27.19    80.0  13.20  16.55  0.797583\n"
     ]
    },
    {
     "data": {
      "image/png": "[encoded data removed]",
      "text/plain": [
       "<Figure size 792x576 with 1 Axes>"
      ]
     },
     "metadata": {
      "needs_background": "light"
     },
     "output_type": "display_data"
    }
   ],
   "source": [
    "first, second = '2020-02-19', '2021-01-07'\n",
    "figsize(11, 8)\n",
    "\n",
    "#Day Charts\n",
    "for i in total[2:14]:\n",
    "    #get data on this ticker\n",
    "    tk = yf.Ticker(i)\n",
    "\n",
    "    #get the historical prices for this ticker year-month-day\n",
    "    tickerDf = tk.history(period='1d', interval = \"1h\",\n",
    "                                  start=first, end=second)\n",
    "    tickerDf['Open'].plot(subplots=True)\n",
    "#     plt.tight_layout()\n",
    "    print(i)\n",
    "    print(first)\n",
    "    goo = tk.option_chain('2023-01-20')[0]\n",
    "\n",
    "    za = pd.DataFrame()\n",
    "\n",
    "    n = tk.history().iloc[0]['Close']\n",
    "    p = ''.join(str(n).split('.')[0]+'.'+str(n).split('.')[1][:2])\n",
    "\n",
    "    za['price'] = [p for x in range(len(goo['bid'])) ]\n",
    "    za['price_'] = p\n",
    "    za['strike'] = goo['strike']\n",
    "    za['bid'] = goo['bid']\n",
    "    za['ask'] = goo['ask']\n",
    "    za['spread'] = [(goo['bid'][x] / goo['ask'][x]) for x in range(len(goo))]\n",
    "    \n",
    "    print(n, za)\n",
    "    plt.show(i)"
   ]
  },
  {
   "cell_type": "code",
   "execution_count": null,
   "metadata": {},
   "outputs": [],
   "source": []
  },
  {
   "cell_type": "code",
   "execution_count": null,
   "metadata": {},
   "outputs": [],
   "source": []
  },
  {
   "cell_type": "code",
   "execution_count": null,
   "metadata": {},
   "outputs": [],
   "source": []
  },
  {
   "cell_type": "code",
   "execution_count": null,
   "metadata": {},
   "outputs": [],
   "source": [
    "the_dow = [\n",
    "'MMM',\n",
    "'AXP',\n",
    "'AMGN',\n",
    "'AAPL',\n",
    "'BA',\n",
    "'CAT',\n",
    "'CVX',\n",
    "'CSCO',\n",
    "'KO',\n",
    "'DOW',\n",
    "'GS',\n",
    "'HD',\n",
    "'HON',\n",
    "'IBM',\n",
    "'INTC',\n",
    "'JNJ',\n",
    "'JPM',\n",
    "'MCD',\n",
    "'MRK',\n",
    "'MSFT',\n",
    "'NKE',\n",
    "'PG',\n",
    "'CRM',\n",
    "'TRV',\n",
    "'UNH',\n",
    "'VZ',\n",
    "'V',\n",
    "'WBA',\n",
    "'WMT',\n",
    "'DIS']"
   ]
  },
  {
   "cell_type": "code",
   "execution_count": null,
   "metadata": {},
   "outputs": [],
   "source": [
    "for i in total:\n",
    "    #get data on this ticker\n",
    "    tickerData = yf.Ticker(i)\n",
    "\n",
    "    #get the historical prices for this ticker\n",
    "    tickerDf = tickerData.history(period='1d', start='2020-1-1', end='2020-12-14')\n",
    "    tickerDf['Open'].plot(subplots=True)\n",
    "    plt.tight_layout()\n",
    "    print(i)\n",
    "    plt.show(i)"
   ]
  },
  {
   "cell_type": "code",
   "execution_count": null,
   "metadata": {},
   "outputs": [],
   "source": []
  },
  {
   "cell_type": "code",
   "execution_count": null,
   "metadata": {},
   "outputs": [],
   "source": []
  },
  {
   "cell_type": "code",
   "execution_count": null,
   "metadata": {},
   "outputs": [],
   "source": [
    "nyse = mcal.get_calendar('NYSE')\n",
    "days = nyse.valid_days(start_date='2020-10-1', end_date='2020-11-30')"
   ]
  },
  {
   "cell_type": "code",
   "execution_count": null,
   "metadata": {},
   "outputs": [],
   "source": [
    "count = 0\n",
    "first, second = '2020-11-29', '2020-11-30'"
   ]
  },
  {
   "cell_type": "code",
   "execution_count": null,
   "metadata": {},
   "outputs": [],
   "source": [
    "two_days = list(days)[count:count+2]\n",
    "count += 1\n",
    "previous_day1 = str(two_days[0]).split('\\'')[0].split(' ')[0]\n",
    "previous_day2 = str(two_days[1]).split('\\'')[0].split(' ')[0]\n",
    "\n",
    "# 1 Day\n",
    "tickerData = yf.Ticker('MCD')\n",
    "#get the historical prices for this ticker year-month-day\n",
    "day_tickerDf = tickerData.history(period='1d', interval = \"1h\",\n",
    "                              start=first, end=second)\n",
    "two_days = list(days)[count:count+2]\n",
    "# count += 1\n",
    "first = str(two_days[0]).split('\\'')[0].split(' ')[0]\n",
    "second = str(two_days[1]).split('\\'')[0].split(' ')[0]\n",
    "\n",
    "# 15 Minutes\n",
    "#get the historical prices for this ticker year-month-day\n",
    "tickerDf = tickerData.history(period='1d', interval = \"15m\",\n",
    "                              start=first, end=second)"
   ]
  },
  {
   "cell_type": "code",
   "execution_count": null,
   "metadata": {},
   "outputs": [],
   "source": []
  },
  {
   "cell_type": "code",
   "execution_count": null,
   "metadata": {},
   "outputs": [],
   "source": [
    "nyse = mcal.get_calendar('NYSE')\n",
    "days = nyse.valid_days(start_date='2018-12-14', end_date='2020-12-21')\n",
    "\n",
    "first, second = '2020-11-29', '2020-11-30'"
   ]
  },
  {
   "cell_type": "code",
   "execution_count": null,
   "metadata": {},
   "outputs": [],
   "source": [
    "# m = []\n",
    "fail = 0\n",
    "m_d = []\n",
    "m_one = []\n",
    "m_two = []\n",
    "d = {}\n",
    "\n",
    "for tick in tqdm(total):\n",
    "    print(tick)\n",
    "    count = 0\n",
    "    for i in tqdm(range(900)):\n",
    "        try:\n",
    "            two_days = list(days)[count:count+2]\n",
    "            count += 1\n",
    "            previous_day1 = str(two_days[0]).split('\\'')[0].split(' ')[0]\n",
    "            previous_day2 = str(two_days[1]).split('\\'')[0].split(' ')[0]\n",
    "\n",
    "            # 1 Day\n",
    "            tickerData = yf.Ticker(tick)\n",
    "            #get the historical prices for this ticker year-month-day\n",
    "            day_tickerDf = tickerData.history(period='1d',\n",
    "                                          start=first, end=second)\n",
    "            two_days = list(days)[count:count+2]\n",
    "            count += 1\n",
    "            first = str(two_days[0]).split('\\'')[0].split(' ')[0]\n",
    "            second = str(two_days[1]).split('\\'')[0].split(' ')[0]\n",
    "\n",
    "            # 15 Minutes\n",
    "            #get the historical prices for this ticker year-month-day\n",
    "            tickerDf = tickerData.history(period='1d', interval = \"1h\",\n",
    "                                          start=first, end=second)\n",
    "    #             av = max(tickerDf['High'][:2])\n",
    "    #             if av > day_tickerDf['Close'][0]:\n",
    "    #                 percent = av / day_tickerDf['Close'][0] - 1\n",
    "    #                 if percent > 0.03 and percent < 0.05:\n",
    "    #                     print(percent)\n",
    "            d[tick+' '+str(i)] = [['the day', tickerDf], ['yesterday', day_tickerDf['Close']]]\n",
    "\n",
    "\n",
    "    #                     if min(tickerDf['Low'][2:] < (day_tickerDf['Close'][0] * 1.02)):\n",
    "\n",
    "        except:\n",
    "            fail += 1\n",
    "            print(tick+' '+str(i))\n",
    "            pass"
   ]
  },
  {
   "cell_type": "code",
   "execution_count": null,
   "metadata": {},
   "outputs": [],
   "source": [
    "with open(\"day_ALL_128.txt\", \"wb\") as myFile:\n",
    "    pickle.dump(d, myFile)"
   ]
  },
  {
   "cell_type": "code",
   "execution_count": null,
   "metadata": {},
   "outputs": [],
   "source": []
  },
  {
   "cell_type": "code",
   "execution_count": null,
   "metadata": {},
   "outputs": [],
   "source": [
    "d = pickle.load(open('day_screened.txt', 'rb'))"
   ]
  },
  {
   "cell_type": "code",
   "execution_count": null,
   "metadata": {
    "scrolled": true
   },
   "outputs": [],
   "source": [
    "len(d)"
   ]
  },
  {
   "cell_type": "code",
   "execution_count": null,
   "metadata": {},
   "outputs": [],
   "source": [
    "l = []"
   ]
  },
  {
   "cell_type": "code",
   "execution_count": null,
   "metadata": {},
   "outputs": [],
   "source": [
    "for i in d.values():\n",
    "    l.append(i[1][1])"
   ]
  },
  {
   "cell_type": "code",
   "execution_count": null,
   "metadata": {},
   "outputs": [],
   "source": [
    "l[0]['High']"
   ]
  },
  {
   "cell_type": "code",
   "execution_count": null,
   "metadata": {},
   "outputs": [],
   "source": [
    "for n, x in enumerate(d.values()):\n",
    "    l[n]['Precent'] = x[0][1]"
   ]
  },
  {
   "cell_type": "code",
   "execution_count": null,
   "metadata": {},
   "outputs": [],
   "source": [
    "max(l[8]['High'][:2]) < max(l[8]['High'][2:])"
   ]
  },
  {
   "cell_type": "code",
   "execution_count": null,
   "metadata": {},
   "outputs": [],
   "source": [
    "l[8]['Low'][3:5]"
   ]
  },
  {
   "cell_type": "code",
   "execution_count": null,
   "metadata": {},
   "outputs": [],
   "source": [
    "lo = [1,2,3,4,5,6,7,8,9, 10]\n",
    "#  + [1,2,3,4,5,6,7,8,9][4:])"
   ]
  },
  {
   "cell_type": "code",
   "execution_count": null,
   "metadata": {},
   "outputs": [],
   "source": [
    "m_d = []\n",
    "for i in l:\n",
    "    if max(i['High'][:2]) < (max(i['Low'][2:4]) * 1.02):\n",
    "        m_d.append(1)\n",
    "    else:\n",
    "        m_d.append(0)"
   ]
  },
  {
   "cell_type": "code",
   "execution_count": null,
   "metadata": {},
   "outputs": [],
   "source": [
    "percent = [x[0][1] for x in d.values()]"
   ]
  },
  {
   "cell_type": "code",
   "execution_count": null,
   "metadata": {},
   "outputs": [],
   "source": [
    "l[5][::2]"
   ]
  },
  {
   "cell_type": "code",
   "execution_count": null,
   "metadata": {},
   "outputs": [],
   "source": [
    "3499/ 6"
   ]
  },
  {
   "cell_type": "code",
   "execution_count": null,
   "metadata": {},
   "outputs": [],
   "source": [
    "b = 0\n",
    "m_d = []\n",
    "v = 2\n",
    "for i in d.values():\n",
    "#     print(max(i[2][1]))\n",
    "    if max(lo[:v] + lo[v+1:]) > lo[:v+1] + lo[v+2:]):\n",
    "#         if min(i[1][1]['Low']) < max(i[2][1])*1.01:\n",
    "        m_d.append(1)\n",
    "    else:\n",
    "        m_d.append(0)"
   ]
  },
  {
   "cell_type": "code",
   "execution_count": null,
   "metadata": {},
   "outputs": [],
   "source": [
    "lo[v]"
   ]
  },
  {
   "cell_type": "code",
   "execution_count": null,
   "metadata": {},
   "outputs": [],
   "source": [
    "max(lo[:v] + lo[v+1:])"
   ]
  },
  {
   "cell_type": "code",
   "execution_count": null,
   "metadata": {
    "scrolled": true
   },
   "outputs": [],
   "source": [
    "print(max(list(l[9]['High'][:v]) + list(l[9]['High'][v+1:])))"
   ]
  },
  {
   "cell_type": "code",
   "execution_count": null,
   "metadata": {},
   "outputs": [],
   "source": [
    "len(l) / 7"
   ]
  },
  {
   "cell_type": "code",
   "execution_count": null,
   "metadata": {},
   "outputs": [],
   "source": []
  },
  {
   "cell_type": "code",
   "execution_count": null,
   "metadata": {},
   "outputs": [],
   "source": [
    "l[9]['High'][v+1:]"
   ]
  },
  {
   "cell_type": "code",
   "execution_count": null,
   "metadata": {},
   "outputs": [],
   "source": [
    "for i in d.values():\n",
    "    print(i[1][1])"
   ]
  },
  {
   "cell_type": "code",
   "execution_count": null,
   "metadata": {},
   "outputs": [],
   "source": [
    "b = 0\n",
    "m_d = []\n",
    "v = 2\n",
    "for i in d.values():\n",
    "    print(i[1][1]['High'][v])\n",
    "    print(max(i[1][1]['High'][:v] + i[1][1]['High'][v+1:]))\n",
    "    if i[1][1]['High'][v] > max(list(i[1][1]['High'][:v]) + list(i[1][1]['High'][v+1:])):\n",
    "#         if min(i[1][1]['Low']) < max(i[2][1])*1.01:\n",
    "        m_d.append(1)\n",
    "    else:\n",
    "        m_d.append(0)\n",
    "#     else:\n",
    "#         b += 1"
   ]
  },
  {
   "cell_type": "code",
   "execution_count": null,
   "metadata": {},
   "outputs": [],
   "source": []
  },
  {
   "cell_type": "code",
   "execution_count": null,
   "metadata": {},
   "outputs": [],
   "source": []
  },
  {
   "cell_type": "code",
   "execution_count": null,
   "metadata": {},
   "outputs": [],
   "source": [
    "[1,2,3,4,5,6,7][:6]"
   ]
  },
  {
   "cell_type": "code",
   "execution_count": null,
   "metadata": {},
   "outputs": [],
   "source": [
    "# 758 is average"
   ]
  },
  {
   "cell_type": "code",
   "execution_count": null,
   "metadata": {},
   "outputs": [],
   "source": [
    "l[0]['High'][v]"
   ]
  },
  {
   "cell_type": "code",
   "execution_count": null,
   "metadata": {},
   "outputs": [],
   "source": [
    "d_day_onePercent = {}"
   ]
  },
  {
   "cell_type": "code",
   "execution_count": null,
   "metadata": {},
   "outputs": [],
   "source": [
    "[i for i in range(7)][6]"
   ]
  },
  {
   "cell_type": "code",
   "execution_count": null,
   "metadata": {},
   "outputs": [],
   "source": [
    "[i for i in range(7)][:6]"
   ]
  },
  {
   "cell_type": "code",
   "execution_count": null,
   "metadata": {},
   "outputs": [],
   "source": [
    "[i for i in range(7)][6:]"
   ]
  },
  {
   "cell_type": "code",
   "execution_count": null,
   "metadata": {},
   "outputs": [],
   "source": [
    "b = 0\n",
    "m_d = []\n",
    "# v = 2\n",
    "# for v in range(7):\n",
    "for x in l:\n",
    "#     print(i['High'][v])\n",
    "    i = x['High'].tolist()\n",
    "    if len(i) > 6:\n",
    "#             if i[v] > max(i[:v] + i[v+1:]):\n",
    "        if max(i[:6]) > i[6]:\n",
    "            m_d.append(1)\n",
    "        else:\n",
    "            m_d.append(0)\n",
    "        b += 1\n",
    "#     d_day_onePercent[v] = m_d.count(1)"
   ]
  },
  {
   "cell_type": "code",
   "execution_count": null,
   "metadata": {},
   "outputs": [],
   "source": [
    "m_d.count(1)"
   ]
  },
  {
   "cell_type": "code",
   "execution_count": null,
   "metadata": {},
   "outputs": [],
   "source": [
    "m_d.count(0)"
   ]
  },
  {
   "cell_type": "code",
   "execution_count": null,
   "metadata": {},
   "outputs": [],
   "source": [
    "b = 0\n",
    "m_d = []\n",
    "# v = 2\n",
    "\n",
    "for n, x in enumerate(l):\n",
    "    i = x['High'].tolist()\n",
    "    c = x['Low'].tolist()\n",
    "    if len(i) > 6:\n",
    "        argmax[np.argmax(i)] += 1\n",
    "        argmin[np.argmin(c)] += 1\n",
    "        m_d.append(len(i))\n",
    "#         if max(i[:6]) > i[6]:\n",
    "#             m_d.append(1)\n",
    "#         else:\n",
    "#             m_d.append(0)\n",
    "        b += 1"
   ]
  },
  {
   "cell_type": "code",
   "execution_count": null,
   "metadata": {},
   "outputs": [],
   "source": [
    "b"
   ]
  },
  {
   "cell_type": "code",
   "execution_count": null,
   "metadata": {},
   "outputs": [],
   "source": [
    "argmax = [0,0,0,0,0,0,0,0]\n",
    "argmin = [0,0,0,0,0,0,0,0]"
   ]
  },
  {
   "cell_type": "code",
   "execution_count": null,
   "metadata": {},
   "outputs": [],
   "source": [
    "o = l[7]['High'].tolist()\n",
    "o"
   ]
  },
  {
   "cell_type": "code",
   "execution_count": null,
   "metadata": {},
   "outputs": [],
   "source": [
    "np.argmax(o)"
   ]
  },
  {
   "cell_type": "code",
   "execution_count": null,
   "metadata": {},
   "outputs": [],
   "source": [
    "zs[np.argmax(o)] += 1"
   ]
  },
  {
   "cell_type": "code",
   "execution_count": null,
   "metadata": {},
   "outputs": [],
   "source": [
    "zs"
   ]
  },
  {
   "cell_type": "code",
   "execution_count": null,
   "metadata": {},
   "outputs": [],
   "source": [
    "# Highest price in the 1st two hours was 3 to 5% above yest. close\n",
    "argmin, argmax"
   ]
  },
  {
   "cell_type": "code",
   "execution_count": null,
   "metadata": {},
   "outputs": [],
   "source": [
    "sum(argmax)"
   ]
  },
  {
   "cell_type": "code",
   "execution_count": null,
   "metadata": {},
   "outputs": [],
   "source": [
    "sum(argmin)"
   ]
  },
  {
   "cell_type": "code",
   "execution_count": null,
   "metadata": {},
   "outputs": [],
   "source": [
    "d_day_onePercent"
   ]
  },
  {
   "cell_type": "code",
   "execution_count": null,
   "metadata": {},
   "outputs": [],
   "source": []
  },
  {
   "cell_type": "code",
   "execution_count": null,
   "metadata": {
    "scrolled": true
   },
   "outputs": [],
   "source": [
    "d_day"
   ]
  },
  {
   "cell_type": "code",
   "execution_count": null,
   "metadata": {},
   "outputs": [],
   "source": [
    "sum([1983, 465, 301, 247, 295, 306, 672])"
   ]
  },
  {
   "cell_type": "code",
   "execution_count": null,
   "metadata": {},
   "outputs": [],
   "source": [
    "b"
   ]
  },
  {
   "cell_type": "code",
   "execution_count": null,
   "metadata": {},
   "outputs": [],
   "source": [
    "# Highest in hour 1\n",
    "m_d.count(1)"
   ]
  },
  {
   "cell_type": "code",
   "execution_count": null,
   "metadata": {},
   "outputs": [],
   "source": [
    "# Highest after hour 1\n",
    "m_d.count(0)"
   ]
  },
  {
   "cell_type": "code",
   "execution_count": null,
   "metadata": {
    "scrolled": true
   },
   "outputs": [],
   "source": [
    "b"
   ]
  },
  {
   "cell_type": "code",
   "execution_count": null,
   "metadata": {},
   "outputs": [],
   "source": [
    "len(d.values()) - b"
   ]
  },
  {
   "cell_type": "code",
   "execution_count": null,
   "metadata": {},
   "outputs": [],
   "source": []
  },
  {
   "cell_type": "code",
   "execution_count": null,
   "metadata": {},
   "outputs": [],
   "source": [
    "for x in l[6]:"
   ]
  },
  {
   "cell_type": "code",
   "execution_count": null,
   "metadata": {},
   "outputs": [],
   "source": [
    "    if min(tickerDf['Low'][2:] < (day_tickerDf['Close'][0] * 1.02)):\n",
    "        m_d.append(1)\n",
    "    else:\n",
    "        m_d.append(0)\n",
    "    if max(tickerDf['High'][:2]) > max(tickerDf['High'][2:]):\n",
    "        m_d.append(1)\n",
    "    else:\n",
    "        m_d.append(0)\n",
    "    if max(tickerDf['High'][:2]) * 1.01 > max(tickerDf['High'][2:]):\n",
    "        m_one.append(1)\n",
    "    else:\n",
    "        m_one.append(0)\n",
    "    if max(tickerDf['High'][:2]) * 1.02 > max(tickerDf['High'][2:]):\n",
    "        m_two.append(1)\n",
    "    else:\n",
    "        m_two.append(0)"
   ]
  },
  {
   "cell_type": "code",
   "execution_count": null,
   "metadata": {},
   "outputs": [],
   "source": []
  },
  {
   "cell_type": "code",
   "execution_count": null,
   "metadata": {},
   "outputs": [],
   "source": []
  },
  {
   "cell_type": "code",
   "execution_count": null,
   "metadata": {},
   "outputs": [],
   "source": []
  },
  {
   "cell_type": "code",
   "execution_count": null,
   "metadata": {},
   "outputs": [],
   "source": []
  },
  {
   "cell_type": "code",
   "execution_count": null,
   "metadata": {
    "scrolled": true
   },
   "outputs": [],
   "source": [
    "# m = []\n",
    "m_d = []\n",
    "m_one = []\n",
    "m_two = []\n",
    "\n",
    "for tick in tqdm(d):\n",
    "    print(tick)\n",
    "    count = 0\n",
    "    for i in range(900):\n",
    "        try:\n",
    "            two_days = list(days)[count:count+2]\n",
    "            count += 1\n",
    "            previous_day1 = str(two_days[0]).split('\\'')[0].split(' ')[0]\n",
    "            previous_day2 = str(two_days[1]).split('\\'')[0].split(' ')[0]\n",
    "\n",
    "            # 1 Day\n",
    "            tickerData = yf.Ticker(tick)\n",
    "            #get the historical prices for this ticker year-month-day\n",
    "            day_tickerDf = tickerData.history(period='1d',\n",
    "                                          start=first, end=second)\n",
    "            two_days = list(days)[count:count+2]\n",
    "            count += 1\n",
    "            first = str(two_days[0]).split('\\'')[0].split(' ')[0]\n",
    "            second = str(two_days[1]).split('\\'')[0].split(' ')[0]\n",
    "\n",
    "            # 15 Minutes\n",
    "            #get the historical prices for this ticker year-month-day\n",
    "            tickerDf = tickerData.history(period='1d', interval = \"1h\",\n",
    "                                          start=first, end=second)\n",
    "            av = max(tickerDf['High'][:2])\n",
    "            if av > day_tickerDf['Close'][0]:\n",
    "                percent = av / day_tickerDf['Close'][0] - 1\n",
    "                if percent > 0.03 and percent < 0.05:\n",
    "                    print(percent)\n",
    "    #                 tickerDf['Open'].plot(subplots=False, layout=(1,2))\n",
    "    #                 plt.show()\n",
    "    \n",
    "                    if min(tickerDf['Low'][2:] < (day_tickerDf['Close'][0] * 1.02)):\n",
    "                        m_d.append(1)\n",
    "                    else:\n",
    "                        m_d.append(0)\n",
    "# if max(tickerDf['High'][:2]) > max(tickerDf['High'][2:]):\n",
    "#                         m_d.append(1)\n",
    "#                     else:\n",
    "#                         m_d.append(0)\n",
    "#                     if max(tickerDf['High'][:2]) * 1.01 > max(tickerDf['High'][2:]):\n",
    "#                         m_one.append(1)\n",
    "#                     else:\n",
    "#                         m_one.append(0)\n",
    "#                     if max(tickerDf['High'][:2]) * 1.02 > max(tickerDf['High'][2:]):\n",
    "#                         m_two.append(1)\n",
    "#                     else:\n",
    "#                         m_two.append(0)\n",
    "        except:\n",
    "            pass"
   ]
  },
  {
   "cell_type": "code",
   "execution_count": null,
   "metadata": {},
   "outputs": [],
   "source": [
    "if av > day_tickerDf['Close'][0]:\n",
    "    percent = av / day_tickerDf['Close'][0] - 1"
   ]
  },
  {
   "cell_type": "code",
   "execution_count": null,
   "metadata": {},
   "outputs": [],
   "source": [
    "m_two.count(1)"
   ]
  },
  {
   "cell_type": "code",
   "execution_count": null,
   "metadata": {},
   "outputs": [],
   "source": [
    "m_two.count(0)"
   ]
  },
  {
   "cell_type": "code",
   "execution_count": null,
   "metadata": {},
   "outputs": [],
   "source": [
    "m_one.count(1)"
   ]
  },
  {
   "cell_type": "code",
   "execution_count": null,
   "metadata": {},
   "outputs": [],
   "source": [
    "m_one.count(0)"
   ]
  },
  {
   "cell_type": "code",
   "execution_count": null,
   "metadata": {},
   "outputs": [],
   "source": []
  },
  {
   "cell_type": "code",
   "execution_count": null,
   "metadata": {},
   "outputs": [],
   "source": []
  },
  {
   "cell_type": "code",
   "execution_count": null,
   "metadata": {},
   "outputs": [],
   "source": []
  },
  {
   "cell_type": "code",
   "execution_count": null,
   "metadata": {},
   "outputs": [],
   "source": [
    "m_d.count(1)"
   ]
  },
  {
   "cell_type": "code",
   "execution_count": null,
   "metadata": {},
   "outputs": [],
   "source": [
    "m_d.count(0)"
   ]
  },
  {
   "cell_type": "code",
   "execution_count": null,
   "metadata": {},
   "outputs": [],
   "source": []
  },
  {
   "cell_type": "code",
   "execution_count": null,
   "metadata": {},
   "outputs": [],
   "source": []
  },
  {
   "cell_type": "code",
   "execution_count": null,
   "metadata": {},
   "outputs": [],
   "source": []
  },
  {
   "cell_type": "code",
   "execution_count": null,
   "metadata": {
    "scrolled": true
   },
   "outputs": [],
   "source": [
    "m_one.count(1)"
   ]
  },
  {
   "cell_type": "code",
   "execution_count": null,
   "metadata": {},
   "outputs": [],
   "source": [
    "m_one.count(0)"
   ]
  },
  {
   "cell_type": "code",
   "execution_count": null,
   "metadata": {},
   "outputs": [],
   "source": [
    "m_d.count(1)"
   ]
  },
  {
   "cell_type": "code",
   "execution_count": null,
   "metadata": {},
   "outputs": [],
   "source": [
    "m_d.count(0)"
   ]
  },
  {
   "cell_type": "code",
   "execution_count": null,
   "metadata": {},
   "outputs": [],
   "source": []
  },
  {
   "cell_type": "code",
   "execution_count": null,
   "metadata": {},
   "outputs": [],
   "source": []
  },
  {
   "cell_type": "code",
   "execution_count": null,
   "metadata": {},
   "outputs": [],
   "source": []
  },
  {
   "cell_type": "code",
   "execution_count": null,
   "metadata": {},
   "outputs": [],
   "source": []
  },
  {
   "cell_type": "code",
   "execution_count": null,
   "metadata": {},
   "outputs": [],
   "source": []
  },
  {
   "cell_type": "code",
   "execution_count": null,
   "metadata": {},
   "outputs": [],
   "source": []
  },
  {
   "cell_type": "code",
   "execution_count": null,
   "metadata": {},
   "outputs": [],
   "source": []
  },
  {
   "cell_type": "code",
   "execution_count": null,
   "metadata": {},
   "outputs": [],
   "source": []
  },
  {
   "cell_type": "code",
   "execution_count": null,
   "metadata": {},
   "outputs": [],
   "source": [
    "1.01"
   ]
  },
  {
   "cell_type": "code",
   "execution_count": null,
   "metadata": {},
   "outputs": [],
   "source": []
  },
  {
   "cell_type": "code",
   "execution_count": null,
   "metadata": {},
   "outputs": [],
   "source": [
    "m_d.count(1)"
   ]
  },
  {
   "cell_type": "code",
   "execution_count": null,
   "metadata": {},
   "outputs": [],
   "source": [
    "m_d.count(0)"
   ]
  },
  {
   "cell_type": "code",
   "execution_count": null,
   "metadata": {},
   "outputs": [],
   "source": []
  },
  {
   "cell_type": "code",
   "execution_count": null,
   "metadata": {},
   "outputs": [],
   "source": []
  },
  {
   "cell_type": "code",
   "execution_count": null,
   "metadata": {},
   "outputs": [],
   "source": [
    "m.count(1)"
   ]
  },
  {
   "cell_type": "code",
   "execution_count": null,
   "metadata": {},
   "outputs": [],
   "source": [
    "m.count(0)"
   ]
  },
  {
   "cell_type": "code",
   "execution_count": null,
   "metadata": {},
   "outputs": [],
   "source": [
    "m2.count(1)"
   ]
  },
  {
   "cell_type": "code",
   "execution_count": null,
   "metadata": {},
   "outputs": [],
   "source": [
    "m2.count(0)"
   ]
  },
  {
   "cell_type": "code",
   "execution_count": null,
   "metadata": {},
   "outputs": [],
   "source": [
    "nyse = mcal.get_calendar('NYSE')\n",
    "days = nyse.valid_days(start_date='2020-10-01', end_date='2020-12-14')"
   ]
  },
  {
   "cell_type": "code",
   "execution_count": null,
   "metadata": {
    "scrolled": true
   },
   "outputs": [],
   "source": [
    "first, second = '2020-11-29', '2020-11-30'\n",
    "# m = []\n",
    "dow = []\n",
    "for tick in tqdm(the_dow):\n",
    "    count = 0\n",
    "    for i in range(100):\n",
    "        try:\n",
    "            two_days = list(days)[count:count+2]\n",
    "            count += 1\n",
    "            previous_day1 = str(two_days[0]).split('\\'')[0].split(' ')[0]\n",
    "            previous_day2 = str(two_days[1]).split('\\'')[0].split(' ')[0]\n",
    "\n",
    "            # 1 Day\n",
    "            tickerData = yf.Ticker(tick)\n",
    "            #get the historical prices for this ticker year-month-day\n",
    "            day_tickerDf = tickerData.history(period='1d',\n",
    "                                          start=first, end=second)\n",
    "            two_days = list(days)[count:count+2]\n",
    "            count += 1\n",
    "            first = str(two_days[0]).split('\\'')[0].split(' ')[0]\n",
    "            second = str(two_days[1]).split('\\'')[0].split(' ')[0]\n",
    "\n",
    "            # 15 Minutes\n",
    "            #get the historical prices for this ticker year-month-day\n",
    "            tickerDf = tickerData.history(period='1d', interval = \"15m\",\n",
    "                                          start=first, end=second)\n",
    "            if tickerDf['Close'][:4].mean() > day_tickerDf['Close'][0]:\n",
    "                percent = tickerDf['Close'][:4].mean() / day_tickerDf['Close'][0] - 1\n",
    "                if percent > 0.03:\n",
    "                    print(percent)\n",
    "    #                 tickerDf['Open'].plot(subplots=False, layout=(1,2))\n",
    "    #                 plt.show()\n",
    "                    if max(tickerDf['Close'][:4]) > max(tickerDf['Close'][4:]):\n",
    "                        dow.append(1)\n",
    "                    else:\n",
    "                        dow.append(0)\n",
    "        except:\n",
    "            pass"
   ]
  },
  {
   "cell_type": "code",
   "execution_count": null,
   "metadata": {},
   "outputs": [],
   "source": []
  },
  {
   "cell_type": "code",
   "execution_count": null,
   "metadata": {},
   "outputs": [],
   "source": []
  },
  {
   "cell_type": "code",
   "execution_count": null,
   "metadata": {},
   "outputs": [],
   "source": []
  },
  {
   "cell_type": "code",
   "execution_count": null,
   "metadata": {},
   "outputs": [],
   "source": []
  },
  {
   "cell_type": "code",
   "execution_count": null,
   "metadata": {},
   "outputs": [],
   "source": []
  },
  {
   "cell_type": "code",
   "execution_count": null,
   "metadata": {},
   "outputs": [],
   "source": []
  },
  {
   "cell_type": "code",
   "execution_count": null,
   "metadata": {
    "scrolled": true
   },
   "outputs": [],
   "source": [
    "tickerDf['Open'].plot"
   ]
  },
  {
   "cell_type": "code",
   "execution_count": null,
   "metadata": {},
   "outputs": [],
   "source": [
    "tickerDf['Open'].plot"
   ]
  },
  {
   "cell_type": "code",
   "execution_count": null,
   "metadata": {},
   "outputs": [],
   "source": [
    "tickerDf['Open'].plot"
   ]
  },
  {
   "cell_type": "code",
   "execution_count": null,
   "metadata": {},
   "outputs": [],
   "source": [
    "tickerDf['Open'].plot"
   ]
  },
  {
   "cell_type": "code",
   "execution_count": null,
   "metadata": {},
   "outputs": [],
   "source": [
    "if tickerDf['Close'][:8].mean() > day_tickerDf['Close'][0]:\n",
    "    percent = tickerDf['Close'][:8].mean() / day_tickerDf['Close'][0] - 1\n",
    "    if percent > 0.03:\n",
    "        print(percent)\n",
    "        tickerDf['Open'].plot(subplots=True)"
   ]
  },
  {
   "cell_type": "code",
   "execution_count": null,
   "metadata": {},
   "outputs": [],
   "source": [
    "day_tickerDf"
   ]
  },
  {
   "cell_type": "code",
   "execution_count": null,
   "metadata": {},
   "outputs": [],
   "source": []
  },
  {
   "cell_type": "code",
   "execution_count": null,
   "metadata": {},
   "outputs": [],
   "source": []
  },
  {
   "cell_type": "code",
   "execution_count": 2,
   "metadata": {},
   "outputs": [],
   "source": [
    "first, second = '2020-02-19', '2021-01-07'"
   ]
  },
  {
   "cell_type": "code",
   "execution_count": 5,
   "metadata": {},
   "outputs": [],
   "source": [
    "figsize(8, 8)"
   ]
  },
  {
   "cell_type": "code",
   "execution_count": 4,
   "metadata": {
    "scrolled": false
   },
   "outputs": [
    {
     "ename": "NameError",
     "evalue": "name 'total' is not defined",
     "output_type": "error",
     "traceback": [
      "\u001b[0;31m---------------------------------------------------------------------------\u001b[0m",
      "\u001b[0;31mNameError\u001b[0m                                 Traceback (most recent call last)",
      "\u001b[0;32m<ipython-input-4-bba7b22e1600>\u001b[0m in \u001b[0;36m<module>\u001b[0;34m\u001b[0m\n\u001b[1;32m      1\u001b[0m \u001b[0;31m#Day Charts\u001b[0m\u001b[0;34m\u001b[0m\u001b[0;34m\u001b[0m\u001b[0;34m\u001b[0m\u001b[0m\n\u001b[0;32m----> 2\u001b[0;31m \u001b[0;32mfor\u001b[0m \u001b[0mi\u001b[0m \u001b[0;32min\u001b[0m \u001b[0mtotal\u001b[0m\u001b[0;34m:\u001b[0m\u001b[0;34m\u001b[0m\u001b[0;34m\u001b[0m\u001b[0m\n\u001b[0m\u001b[1;32m      3\u001b[0m     \u001b[0;31m#get data on this ticker\u001b[0m\u001b[0;34m\u001b[0m\u001b[0;34m\u001b[0m\u001b[0;34m\u001b[0m\u001b[0m\n\u001b[1;32m      4\u001b[0m     \u001b[0mtickerData\u001b[0m \u001b[0;34m=\u001b[0m \u001b[0myf\u001b[0m\u001b[0;34m.\u001b[0m\u001b[0mTicker\u001b[0m\u001b[0;34m(\u001b[0m\u001b[0mi\u001b[0m\u001b[0;34m)\u001b[0m\u001b[0;34m\u001b[0m\u001b[0;34m\u001b[0m\u001b[0m\n\u001b[1;32m      5\u001b[0m \u001b[0;34m\u001b[0m\u001b[0m\n",
      "\u001b[0;31mNameError\u001b[0m: name 'total' is not defined"
     ]
    }
   ],
   "source": [
    "first, second = '2020-02-19', '2021-01-07'\n",
    "figsize(8, 8)\n",
    "\n",
    "#Day Charts\n",
    "for i in total:\n",
    "    #get data on this ticker\n",
    "    tickerData = yf.Ticker(i)\n",
    "\n",
    "    #get the historical prices for this ticker year-month-day\n",
    "    tickerDf = tickerData.history(period='1d', interval = \"1h\",\n",
    "                                  start=first, end=second)\n",
    "    tickerDf['Open'].plot(subplots=True)\n",
    "#     plt.tight_layout()\n",
    "    print(i)\n",
    "    print(first)\n",
    "    plt.show(i)"
   ]
  },
  {
   "cell_type": "code",
   "execution_count": null,
   "metadata": {},
   "outputs": [],
   "source": []
  },
  {
   "cell_type": "code",
   "execution_count": null,
   "metadata": {},
   "outputs": [],
   "source": []
  },
  {
   "cell_type": "code",
   "execution_count": null,
   "metadata": {},
   "outputs": [],
   "source": []
  },
  {
   "cell_type": "code",
   "execution_count": null,
   "metadata": {},
   "outputs": [],
   "source": []
  },
  {
   "cell_type": "code",
   "execution_count": null,
   "metadata": {},
   "outputs": [],
   "source": []
  },
  {
   "cell_type": "code",
   "execution_count": null,
   "metadata": {},
   "outputs": [],
   "source": []
  },
  {
   "cell_type": "code",
   "execution_count": null,
   "metadata": {},
   "outputs": [],
   "source": []
  },
  {
   "cell_type": "code",
   "execution_count": null,
   "metadata": {},
   "outputs": [],
   "source": []
  },
  {
   "cell_type": "code",
   "execution_count": null,
   "metadata": {},
   "outputs": [],
   "source": []
  },
  {
   "cell_type": "code",
   "execution_count": null,
   "metadata": {},
   "outputs": [],
   "source": []
  }
 ],
 "metadata": {
  "kernelspec": {
   "display_name": "Python 3",
   "language": "python",
   "name": "python3"
  },
  "language_info": {
   "codemirror_mode": {
    "name": "ipython",
    "version": 3
   },
   "file_extension": ".py",
   "mimetype": "text/x-python",
   "name": "python",
   "nbconvert_exporter": "python",
   "pygments_lexer": "ipython3",
   "version": "3.7.9"
  }
 },
 "nbformat": 4,
 "nbformat_minor": 4
}
