{
 "cells": [
  {
   "cell_type": "code",
   "execution_count": 1,
   "id": "948d5f3e",
   "metadata": {},
   "outputs": [],
   "source": [
    "import random\n",
    "import numpy as np"
   ]
  },
  {
   "cell_type": "code",
   "execution_count": null,
   "id": "373a1e70",
   "metadata": {},
   "outputs": [],
   "source": []
  },
  {
   "cell_type": "code",
   "execution_count": 8,
   "id": "1b4a94c7",
   "metadata": {
    "scrolled": true
   },
   "outputs": [
    {
     "name": "stdout",
     "output_type": "stream",
     "text": [
      "Bust Count 38 6285436.492782792\n",
      "Profit mean  6285.436492782784 \n",
      " Trades before 562.0263157894736\n"
     ]
    }
   ],
   "source": [
    "bets = 0\n",
    "loss_mean = []\n",
    "gain_mean = []\n",
    "get_profit_mean = []\n",
    "total_bankroll = 0\n",
    "bust_count = 0\n",
    "factor = 1\n",
    "average_bets_before_goal = []\n",
    "average_bets_before_break = []\n",
    "\n",
    "for p in range(1_000):\n",
    "    mean_losses = 0\n",
    "    mean_gains = 0\n",
    "\n",
    "    bank_roll = 3500\n",
    "    bet_fraction = 50 / bank_roll\n",
    "    bet_size = bet_fraction\n",
    "    for z in range(1000):\n",
    "        bets += 1\n",
    "        r = random.random()\n",
    "        e = random.randrange(35, 60) * 0.01\n",
    "        \n",
    "        if r < 0.48:\n",
    "            #loss\n",
    "            bank_roll -= bank_roll * bet_size * factor\n",
    "            mean_losses -= bank_roll\n",
    "        else:\n",
    "            #win\n",
    "            bank_roll += bank_roll * bet_size * factor\n",
    "            mean_gains += bank_roll\n",
    "        factor = 1\n",
    "        \n",
    "        Top_bankroll_goal = 1_020_000\n",
    "        if bank_roll > Top_bankroll_goal:\n",
    "            average_bets_before_goal.append(z)\n",
    "            break\n",
    "\n",
    "        if bank_roll < 2000:\n",
    "#             print(p, 'BROKE')\n",
    "            bust_count += 1\n",
    "            average_bets_before_break.append(z)\n",
    "            break\n",
    "        \n",
    "        loss_mean.append(mean_gains)\n",
    "        gain_mean.append(mean_losses)\n",
    "\n",
    "    total_bankroll += bank_roll\n",
    "    get_profit_mean.append(bank_roll)    \n",
    "print(f'Bust Count {bust_count}', total_bankroll)\n",
    "\n",
    "print('Profit mean ', np.mean(get_profit_mean), '\\n', 'Trades before', np.mean(average_bets_before_break),\n",
    "     ) #np.mean(average_bets_before_goal))"
   ]
  },
  {
   "cell_type": "code",
   "execution_count": null,
   "id": "340ec7c6",
   "metadata": {},
   "outputs": [],
   "source": [
    "bet_size * 2.5 * 3500"
   ]
  },
  {
   "cell_type": "code",
   "execution_count": null,
   "id": "708a0336",
   "metadata": {},
   "outputs": [],
   "source": [
    "average_bets_before_break"
   ]
  },
  {
   "cell_type": "code",
   "execution_count": null,
   "id": "5924923c",
   "metadata": {
    "scrolled": true
   },
   "outputs": [],
   "source": [
    "np.mean(average_bets_before_break)"
   ]
  },
  {
   "cell_type": "code",
   "execution_count": null,
   "id": "08477d6b",
   "metadata": {},
   "outputs": [],
   "source": [
    "(20 / 30) * 5"
   ]
  },
  {
   "cell_type": "code",
   "execution_count": null,
   "id": "5bdd261c",
   "metadata": {},
   "outputs": [],
   "source": [
    "100 - 37"
   ]
  },
  {
   "cell_type": "code",
   "execution_count": null,
   "id": "cdde76da",
   "metadata": {},
   "outputs": [],
   "source": [
    "63-37"
   ]
  },
  {
   "cell_type": "code",
   "execution_count": null,
   "id": "6d9aff95",
   "metadata": {},
   "outputs": [],
   "source": [
    "1.26"
   ]
  },
  {
   "cell_type": "code",
   "execution_count": null,
   "id": "679e63af",
   "metadata": {},
   "outputs": [],
   "source": []
  },
  {
   "cell_type": "code",
   "execution_count": null,
   "id": "a17f0838",
   "metadata": {},
   "outputs": [],
   "source": [
    "8/1000"
   ]
  },
  {
   "cell_type": "code",
   "execution_count": null,
   "id": "ea84fbdb",
   "metadata": {},
   "outputs": [],
   "source": [
    "(70000/1000000) * 3500"
   ]
  },
  {
   "cell_type": "code",
   "execution_count": null,
   "id": "c51d06eb",
   "metadata": {},
   "outputs": [],
   "source": [
    "print(np.mean(loss_mean), np.mean(gain_mean))"
   ]
  },
  {
   "cell_type": "code",
   "execution_count": null,
   "id": "2bf7be59",
   "metadata": {},
   "outputs": [],
   "source": []
  },
  {
   "cell_type": "code",
   "execution_count": null,
   "id": "f6f0be17",
   "metadata": {},
   "outputs": [],
   "source": [
    "80 percent win rate"
   ]
  },
  {
   "cell_type": "code",
   "execution_count": null,
   "id": "41f2fee3",
   "metadata": {},
   "outputs": [],
   "source": [
    "700 * 1.6"
   ]
  },
  {
   "cell_type": "code",
   "execution_count": null,
   "id": "b592552c",
   "metadata": {},
   "outputs": [],
   "source": []
  },
  {
   "cell_type": "code",
   "execution_count": null,
   "id": "b176a1d6",
   "metadata": {},
   "outputs": [],
   "source": []
  },
  {
   "cell_type": "code",
   "execution_count": null,
   "id": "6ffe68a1",
   "metadata": {},
   "outputs": [],
   "source": []
  },
  {
   "cell_type": "code",
   "execution_count": null,
   "id": "f0fd208d",
   "metadata": {},
   "outputs": [],
   "source": [
    "50/1000"
   ]
  },
  {
   "cell_type": "code",
   "execution_count": null,
   "id": "5ab786cc",
   "metadata": {},
   "outputs": [],
   "source": []
  },
  {
   "cell_type": "code",
   "execution_count": null,
   "id": "1cb1f536",
   "metadata": {},
   "outputs": [],
   "source": [
    "bust_count / (1_000)"
   ]
  },
  {
   "cell_type": "code",
   "execution_count": null,
   "id": "9908a836",
   "metadata": {},
   "outputs": [],
   "source": [
    "1 / 25"
   ]
  },
  {
   "cell_type": "code",
   "execution_count": null,
   "id": "ad726dac",
   "metadata": {},
   "outputs": [],
   "source": [
    "3.5/100"
   ]
  },
  {
   "cell_type": "code",
   "execution_count": null,
   "id": "dd4a70ef",
   "metadata": {},
   "outputs": [],
   "source": [
    "random.random()"
   ]
  },
  {
   "cell_type": "code",
   "execution_count": null,
   "id": "e542c411",
   "metadata": {},
   "outputs": [],
   "source": [
    "1 > 0.4"
   ]
  },
  {
   "cell_type": "code",
   "execution_count": null,
   "id": "e8eec674",
   "metadata": {},
   "outputs": [],
   "source": [
    "100*100"
   ]
  },
  {
   "cell_type": "code",
   "execution_count": null,
   "id": "38ce8454",
   "metadata": {},
   "outputs": [],
   "source": []
  },
  {
   "cell_type": "code",
   "execution_count": null,
   "id": "242f2454",
   "metadata": {},
   "outputs": [],
   "source": []
  },
  {
   "cell_type": "code",
   "execution_count": null,
   "id": "6cf30b69",
   "metadata": {},
   "outputs": [],
   "source": []
  },
  {
   "cell_type": "code",
   "execution_count": null,
   "id": "687fa7a3",
   "metadata": {},
   "outputs": [],
   "source": []
  },
  {
   "cell_type": "code",
   "execution_count": null,
   "id": "41131870",
   "metadata": {},
   "outputs": [],
   "source": []
  },
  {
   "cell_type": "code",
   "execution_count": null,
   "id": "fcc408c7",
   "metadata": {},
   "outputs": [],
   "source": []
  }
 ],
 "metadata": {
  "kernelspec": {
   "display_name": "Python 3 (ipykernel)",
   "language": "python",
   "name": "python3"
  },
  "language_info": {
   "codemirror_mode": {
    "name": "ipython",
    "version": 3
   },
   "file_extension": ".py",
   "mimetype": "text/x-python",
   "name": "python",
   "nbconvert_exporter": "python",
   "pygments_lexer": "ipython3",
   "version": "3.10.4"
  }
 },
 "nbformat": 4,
 "nbformat_minor": 5
}
